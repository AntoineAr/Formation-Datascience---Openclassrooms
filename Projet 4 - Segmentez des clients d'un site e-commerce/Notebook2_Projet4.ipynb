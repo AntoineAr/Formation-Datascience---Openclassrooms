{
  "nbformat": 4,
  "nbformat_minor": 0,
  "metadata": {
    "colab": {
      "provenance": [],
      "toc_visible": true
    },
    "kernelspec": {
      "name": "python3",
      "display_name": "Python 3"
    },
    "language_info": {
      "name": "python"
    }
  },
  "cells": [
    {
      "cell_type": "markdown",
      "source": [
        "# P5 - Notebook Maintenance"
      ],
      "metadata": {
        "id": "Q_uxoaouuS0x"
      }
    },
    {
      "cell_type": "markdown",
      "source": [
        "Idée : évaluer la performance du meilleur algorithme de clustering sélectionné, au cours de différentes périodes, à laquelle des clients sont ajoutés.\n",
        "Dans un premier temps on constitue un DF correspondant aux clients ayant passé une commande dans les 6 premiers mois des dates comprises dans le dataset.\n",
        "On ajoutera ensuite des périodes d'un mois et nous vérifierons la stabilité du clustering.\n",
        "On utilise pour cela l'Adjusted Rand Index Score (ARI). Cette métrique évalue la proportion de paires de points qui sont groupées de la même façon lors de la comparaison entre 2 itérations d'un modèle de clustering : soit parce que, dans les deux cas, ces 2 points appartiennent au même cluster, soit parce que, dans les deux cas, ils appartiennent à des clusters différents.\n",
        "Un ARI de 1 signifie que toutes les paires de poitns sont groupées de la même façon lors des différentes itérations. Un ARI de 0 équivaut à un regroupement aléatoire.\n",
        "Un seuil d'ARI de 0.9 semble être un bon compromis."
      ],
      "metadata": {
        "id": "V0DOWzxLshbX"
      }
    },
    {
      "cell_type": "code",
      "source": [
        "# Import des packages :\n",
        "!pip install --upgrade scikit-learn\n",
        "!pip install yellowbrick\n",
        "import pandas as pd\n",
        "import numpy as np\n",
        "import matplotlib.pyplot as plt\n",
        "import seaborn as sns\n",
        "from sklearn.cluster import KMeans, AgglomerativeClustering, DBSCAN\n",
        "from sklearn.metrics import silhouette_score, adjusted_rand_score, davies_bouldin_score, calinski_harabasz_score\n",
        "from sklearn.preprocessing import StandardScaler, RobustScaler, MinMaxScaler, OneHotEncoder, FunctionTransformer\n",
        "from sklearn.manifold import TSNE\n",
        "from sklearn.decomposition import PCA\n",
        "from sklearn.pipeline import Pipeline, make_pipeline\n",
        "from yellowbrick.cluster import KElbowVisualizer, SilhouetteVisualizer\n",
        "from scipy.cluster.hierarchy import dendrogram\n",
        "from datetime import datetime\n",
        "from sklearn.compose import make_column_transformer\n",
        "import warnings"
      ],
      "metadata": {
        "id": "feYcErW5tPT5",
        "colab": {
          "base_uri": "https://localhost:8080/"
        },
        "outputId": "70f2fff2-ed2c-40b8-87cb-1a81ad1998bc"
      },
      "execution_count": 1,
      "outputs": [
        {
          "output_type": "stream",
          "name": "stdout",
          "text": [
            "Requirement already satisfied: scikit-learn in /usr/local/lib/python3.10/dist-packages (1.4.1.post1)\n",
            "Requirement already satisfied: numpy<2.0,>=1.19.5 in /usr/local/lib/python3.10/dist-packages (from scikit-learn) (1.25.2)\n",
            "Requirement already satisfied: scipy>=1.6.0 in /usr/local/lib/python3.10/dist-packages (from scikit-learn) (1.11.4)\n",
            "Requirement already satisfied: joblib>=1.2.0 in /usr/local/lib/python3.10/dist-packages (from scikit-learn) (1.3.2)\n",
            "Requirement already satisfied: threadpoolctl>=2.0.0 in /usr/local/lib/python3.10/dist-packages (from scikit-learn) (3.3.0)\n",
            "Requirement already satisfied: yellowbrick in /usr/local/lib/python3.10/dist-packages (1.5)\n",
            "Requirement already satisfied: matplotlib!=3.0.0,>=2.0.2 in /usr/local/lib/python3.10/dist-packages (from yellowbrick) (3.7.1)\n",
            "Requirement already satisfied: scipy>=1.0.0 in /usr/local/lib/python3.10/dist-packages (from yellowbrick) (1.11.4)\n",
            "Requirement already satisfied: scikit-learn>=1.0.0 in /usr/local/lib/python3.10/dist-packages (from yellowbrick) (1.4.1.post1)\n",
            "Requirement already satisfied: numpy>=1.16.0 in /usr/local/lib/python3.10/dist-packages (from yellowbrick) (1.25.2)\n",
            "Requirement already satisfied: cycler>=0.10.0 in /usr/local/lib/python3.10/dist-packages (from yellowbrick) (0.12.1)\n",
            "Requirement already satisfied: contourpy>=1.0.1 in /usr/local/lib/python3.10/dist-packages (from matplotlib!=3.0.0,>=2.0.2->yellowbrick) (1.2.0)\n",
            "Requirement already satisfied: fonttools>=4.22.0 in /usr/local/lib/python3.10/dist-packages (from matplotlib!=3.0.0,>=2.0.2->yellowbrick) (4.49.0)\n",
            "Requirement already satisfied: kiwisolver>=1.0.1 in /usr/local/lib/python3.10/dist-packages (from matplotlib!=3.0.0,>=2.0.2->yellowbrick) (1.4.5)\n",
            "Requirement already satisfied: packaging>=20.0 in /usr/local/lib/python3.10/dist-packages (from matplotlib!=3.0.0,>=2.0.2->yellowbrick) (23.2)\n",
            "Requirement already satisfied: pillow>=6.2.0 in /usr/local/lib/python3.10/dist-packages (from matplotlib!=3.0.0,>=2.0.2->yellowbrick) (9.4.0)\n",
            "Requirement already satisfied: pyparsing>=2.3.1 in /usr/local/lib/python3.10/dist-packages (from matplotlib!=3.0.0,>=2.0.2->yellowbrick) (3.1.1)\n",
            "Requirement already satisfied: python-dateutil>=2.7 in /usr/local/lib/python3.10/dist-packages (from matplotlib!=3.0.0,>=2.0.2->yellowbrick) (2.8.2)\n",
            "Requirement already satisfied: joblib>=1.2.0 in /usr/local/lib/python3.10/dist-packages (from scikit-learn>=1.0.0->yellowbrick) (1.3.2)\n",
            "Requirement already satisfied: threadpoolctl>=2.0.0 in /usr/local/lib/python3.10/dist-packages (from scikit-learn>=1.0.0->yellowbrick) (3.3.0)\n",
            "Requirement already satisfied: six>=1.5 in /usr/local/lib/python3.10/dist-packages (from python-dateutil>=2.7->matplotlib!=3.0.0,>=2.0.2->yellowbrick) (1.16.0)\n"
          ]
        }
      ]
    },
    {
      "cell_type": "code",
      "source": [
        "# Ignorer tous les avertissements\n",
        "warnings.filterwarnings(\"ignore\")"
      ],
      "metadata": {
        "id": "P2FiWhR2zT6M"
      },
      "execution_count": 2,
      "outputs": []
    },
    {
      "cell_type": "markdown",
      "source": [
        "**Import des jeux de données**"
      ],
      "metadata": {
        "id": "LUJpeFJztU1K"
      }
    },
    {
      "cell_type": "code",
      "source": [
        "from google.colab import drive\n",
        "drive.mount('/content/drive')"
      ],
      "metadata": {
        "colab": {
          "base_uri": "https://localhost:8080/"
        },
        "id": "fMpFUQwh7Iqf",
        "outputId": "2ccdd670-38bf-4731-e738-b08c1736c6cd"
      },
      "execution_count": 3,
      "outputs": [
        {
          "output_type": "stream",
          "name": "stdout",
          "text": [
            "Mounted at /content/drive\n"
          ]
        }
      ]
    },
    {
      "cell_type": "code",
      "source": [
        "# Import du jeu de données complet\n",
        "data = pd.read_csv(\"/content/drive/My Drive/Formation/Notebooks/jeu_donnees_clustering_maintenance.csv\",\n",
        "                    index_col=\"customer_unique_id\", parse_dates=[\"last_purchase_date\", \"first_purchase_date\"])\n",
        "\n",
        "# Import du jeu de données - échantillon ayant servi aux modèles de clustering :\n",
        "df1 = pd.read_csv(\"/content/drive/My Drive/Formation/Notebooks/jeu_donnees_clustering.csv\",\n",
        "                    index_col=\"customer_unique_id\", parse_dates=[\"last_purchase_date\", \"first_purchase_date\"])"
      ],
      "metadata": {
        "id": "7O7KlvvH7pmP"
      },
      "execution_count": 4,
      "outputs": []
    },
    {
      "cell_type": "markdown",
      "source": [
        "### Maintenance"
      ],
      "metadata": {
        "id": "GxQdF1L1YO6e"
      }
    },
    {
      "cell_type": "markdown",
      "source": [
        "#### Tentative avec le jeu de données échantillon :"
      ],
      "metadata": {
        "id": "I4sBh1bujZQn"
      }
    },
    {
      "cell_type": "code",
      "source": [
        "df1.head()"
      ],
      "metadata": {
        "id": "VwQjrkXCaQwQ",
        "colab": {
          "base_uri": "https://localhost:8080/",
          "height": 287
        },
        "outputId": "c29d1e2a-d941-4673-d16c-d03c83a40401"
      },
      "execution_count": 5,
      "outputs": [
        {
          "output_type": "execute_result",
          "data": {
            "text/plain": [
              "                                  nb_orders  last_purchase_date  \\\n",
              "customer_unique_id                                                \n",
              "00172711b30d52eea8b313a7f2cced02          2 2018-07-28 00:23:49   \n",
              "004288347e5e88a27ded2bb23747066c          2 2017-07-27 14:13:03   \n",
              "004b45ec5c64187465168251cd1c9c2f          2 2017-09-01 12:11:23   \n",
              "0058f300f57d7b93c477a131a59b36c3          2 2018-02-19 17:11:34   \n",
              "00a39521eb40f7012db50455bf083460          2 2018-05-23 20:14:21   \n",
              "\n",
              "                                 first_purchase_date  mean_delivery_delay  \\\n",
              "customer_unique_id                                                          \n",
              "00172711b30d52eea8b313a7f2cced02 2018-08-13 09:14:07            14.188414   \n",
              "004288347e5e88a27ded2bb23747066c 2018-01-14 07:36:54            16.694051   \n",
              "004b45ec5c64187465168251cd1c9c2f 2018-05-26 19:42:48            21.287928   \n",
              "0058f300f57d7b93c477a131a59b36c3 2018-03-22 18:09:41            11.037535   \n",
              "00a39521eb40f7012db50455bf083460 2018-06-03 10:12:57            18.233918   \n",
              "\n",
              "                                  max_delivery_delay  mean_review_score  \\\n",
              "customer_unique_id                                                        \n",
              "00172711b30d52eea8b313a7f2cced02           14.188414                4.0   \n",
              "004288347e5e88a27ded2bb23747066c           20.073449                5.0   \n",
              "004b45ec5c64187465168251cd1c9c2f           21.287928                3.0   \n",
              "0058f300f57d7b93c477a131a59b36c3           11.037535                3.0   \n",
              "00a39521eb40f7012db50455bf083460           21.330023                4.0   \n",
              "\n",
              "                                  max_review_score  min_review_score  \\\n",
              "customer_unique_id                                                     \n",
              "00172711b30d52eea8b313a7f2cced02               4.0               4.0   \n",
              "004288347e5e88a27ded2bb23747066c               5.0               5.0   \n",
              "004b45ec5c64187465168251cd1c9c2f               5.0               1.0   \n",
              "0058f300f57d7b93c477a131a59b36c3               5.0               1.0   \n",
              "00a39521eb40f7012db50455bf083460               4.0               4.0   \n",
              "\n",
              "                                 largest_payment_type  \\\n",
              "customer_unique_id                                      \n",
              "00172711b30d52eea8b313a7f2cced02              voucher   \n",
              "004288347e5e88a27ded2bb23747066c          credit_card   \n",
              "004b45ec5c64187465168251cd1c9c2f               boleto   \n",
              "0058f300f57d7b93c477a131a59b36c3              voucher   \n",
              "00a39521eb40f7012db50455bf083460          credit_card   \n",
              "\n",
              "                                  mean_payment_installments  ...  total_price  \\\n",
              "customer_unique_id                                           ...                \n",
              "00172711b30d52eea8b313a7f2cced02                        1.5  ...       122.07   \n",
              "004288347e5e88a27ded2bb23747066c                        2.0  ...       354.37   \n",
              "004b45ec5c64187465168251cd1c9c2f                        1.0  ...       147.72   \n",
              "0058f300f57d7b93c477a131a59b36c3                        1.0  ...       175.58   \n",
              "00a39521eb40f7012db50455bf083460                        1.0  ...       123.25   \n",
              "\n",
              "                                  mean_order_price  \\\n",
              "customer_unique_id                                   \n",
              "00172711b30d52eea8b313a7f2cced02           122.070   \n",
              "004288347e5e88a27ded2bb23747066c           177.185   \n",
              "004b45ec5c64187465168251cd1c9c2f            73.860   \n",
              "0058f300f57d7b93c477a131a59b36c3            87.790   \n",
              "00a39521eb40f7012db50455bf083460            61.625   \n",
              "\n",
              "                                  largest_product_category_name  recency  \\\n",
              "customer_unique_id                                                         \n",
              "00172711b30d52eea8b313a7f2cced02                 house_products       32   \n",
              "004288347e5e88a27ded2bb23747066c                        fashion      398   \n",
              "004b45ec5c64187465168251cd1c9c2f                          tools      362   \n",
              "0058f300f57d7b93c477a131a59b36c3                 house_products      190   \n",
              "00a39521eb40f7012db50455bf083460                       leasures       97   \n",
              "\n",
              "                                  delivery_delay several_orders  \\\n",
              "customer_unique_id                                                \n",
              "00172711b30d52eea8b313a7f2cced02               0              1   \n",
              "004288347e5e88a27ded2bb23747066c               0              1   \n",
              "004b45ec5c64187465168251cd1c9c2f               0              1   \n",
              "0058f300f57d7b93c477a131a59b36c3               0              1   \n",
              "00a39521eb40f7012db50455bf083460               0              1   \n",
              "\n",
              "                                  payment_installment  order_last_month  \\\n",
              "customer_unique_id                                                        \n",
              "00172711b30d52eea8b313a7f2cced02                    1                 0   \n",
              "004288347e5e88a27ded2bb23747066c                    1                 0   \n",
              "004b45ec5c64187465168251cd1c9c2f                    0                 0   \n",
              "0058f300f57d7b93c477a131a59b36c3                    0                 0   \n",
              "00a39521eb40f7012db50455bf083460                    0                 0   \n",
              "\n",
              "                                  order_last_quarter  order_last_year  \n",
              "customer_unique_id                                                     \n",
              "00172711b30d52eea8b313a7f2cced02                   1                1  \n",
              "004288347e5e88a27ded2bb23747066c                   0                0  \n",
              "004b45ec5c64187465168251cd1c9c2f                   0                1  \n",
              "0058f300f57d7b93c477a131a59b36c3                   0                1  \n",
              "00a39521eb40f7012db50455bf083460                   0                1  \n",
              "\n",
              "[5 rows x 23 columns]"
            ],
            "text/html": [
              "\n",
              "  <div id=\"df-bcfe3bcf-fc4b-4d67-a183-6ea813d36354\" class=\"colab-df-container\">\n",
              "    <div>\n",
              "<style scoped>\n",
              "    .dataframe tbody tr th:only-of-type {\n",
              "        vertical-align: middle;\n",
              "    }\n",
              "\n",
              "    .dataframe tbody tr th {\n",
              "        vertical-align: top;\n",
              "    }\n",
              "\n",
              "    .dataframe thead th {\n",
              "        text-align: right;\n",
              "    }\n",
              "</style>\n",
              "<table border=\"1\" class=\"dataframe\">\n",
              "  <thead>\n",
              "    <tr style=\"text-align: right;\">\n",
              "      <th></th>\n",
              "      <th>nb_orders</th>\n",
              "      <th>last_purchase_date</th>\n",
              "      <th>first_purchase_date</th>\n",
              "      <th>mean_delivery_delay</th>\n",
              "      <th>max_delivery_delay</th>\n",
              "      <th>mean_review_score</th>\n",
              "      <th>max_review_score</th>\n",
              "      <th>min_review_score</th>\n",
              "      <th>largest_payment_type</th>\n",
              "      <th>mean_payment_installments</th>\n",
              "      <th>...</th>\n",
              "      <th>total_price</th>\n",
              "      <th>mean_order_price</th>\n",
              "      <th>largest_product_category_name</th>\n",
              "      <th>recency</th>\n",
              "      <th>delivery_delay</th>\n",
              "      <th>several_orders</th>\n",
              "      <th>payment_installment</th>\n",
              "      <th>order_last_month</th>\n",
              "      <th>order_last_quarter</th>\n",
              "      <th>order_last_year</th>\n",
              "    </tr>\n",
              "    <tr>\n",
              "      <th>customer_unique_id</th>\n",
              "      <th></th>\n",
              "      <th></th>\n",
              "      <th></th>\n",
              "      <th></th>\n",
              "      <th></th>\n",
              "      <th></th>\n",
              "      <th></th>\n",
              "      <th></th>\n",
              "      <th></th>\n",
              "      <th></th>\n",
              "      <th></th>\n",
              "      <th></th>\n",
              "      <th></th>\n",
              "      <th></th>\n",
              "      <th></th>\n",
              "      <th></th>\n",
              "      <th></th>\n",
              "      <th></th>\n",
              "      <th></th>\n",
              "      <th></th>\n",
              "      <th></th>\n",
              "    </tr>\n",
              "  </thead>\n",
              "  <tbody>\n",
              "    <tr>\n",
              "      <th>00172711b30d52eea8b313a7f2cced02</th>\n",
              "      <td>2</td>\n",
              "      <td>2018-07-28 00:23:49</td>\n",
              "      <td>2018-08-13 09:14:07</td>\n",
              "      <td>14.188414</td>\n",
              "      <td>14.188414</td>\n",
              "      <td>4.0</td>\n",
              "      <td>4.0</td>\n",
              "      <td>4.0</td>\n",
              "      <td>voucher</td>\n",
              "      <td>1.5</td>\n",
              "      <td>...</td>\n",
              "      <td>122.07</td>\n",
              "      <td>122.070</td>\n",
              "      <td>house_products</td>\n",
              "      <td>32</td>\n",
              "      <td>0</td>\n",
              "      <td>1</td>\n",
              "      <td>1</td>\n",
              "      <td>0</td>\n",
              "      <td>1</td>\n",
              "      <td>1</td>\n",
              "    </tr>\n",
              "    <tr>\n",
              "      <th>004288347e5e88a27ded2bb23747066c</th>\n",
              "      <td>2</td>\n",
              "      <td>2017-07-27 14:13:03</td>\n",
              "      <td>2018-01-14 07:36:54</td>\n",
              "      <td>16.694051</td>\n",
              "      <td>20.073449</td>\n",
              "      <td>5.0</td>\n",
              "      <td>5.0</td>\n",
              "      <td>5.0</td>\n",
              "      <td>credit_card</td>\n",
              "      <td>2.0</td>\n",
              "      <td>...</td>\n",
              "      <td>354.37</td>\n",
              "      <td>177.185</td>\n",
              "      <td>fashion</td>\n",
              "      <td>398</td>\n",
              "      <td>0</td>\n",
              "      <td>1</td>\n",
              "      <td>1</td>\n",
              "      <td>0</td>\n",
              "      <td>0</td>\n",
              "      <td>0</td>\n",
              "    </tr>\n",
              "    <tr>\n",
              "      <th>004b45ec5c64187465168251cd1c9c2f</th>\n",
              "      <td>2</td>\n",
              "      <td>2017-09-01 12:11:23</td>\n",
              "      <td>2018-05-26 19:42:48</td>\n",
              "      <td>21.287928</td>\n",
              "      <td>21.287928</td>\n",
              "      <td>3.0</td>\n",
              "      <td>5.0</td>\n",
              "      <td>1.0</td>\n",
              "      <td>boleto</td>\n",
              "      <td>1.0</td>\n",
              "      <td>...</td>\n",
              "      <td>147.72</td>\n",
              "      <td>73.860</td>\n",
              "      <td>tools</td>\n",
              "      <td>362</td>\n",
              "      <td>0</td>\n",
              "      <td>1</td>\n",
              "      <td>0</td>\n",
              "      <td>0</td>\n",
              "      <td>0</td>\n",
              "      <td>1</td>\n",
              "    </tr>\n",
              "    <tr>\n",
              "      <th>0058f300f57d7b93c477a131a59b36c3</th>\n",
              "      <td>2</td>\n",
              "      <td>2018-02-19 17:11:34</td>\n",
              "      <td>2018-03-22 18:09:41</td>\n",
              "      <td>11.037535</td>\n",
              "      <td>11.037535</td>\n",
              "      <td>3.0</td>\n",
              "      <td>5.0</td>\n",
              "      <td>1.0</td>\n",
              "      <td>voucher</td>\n",
              "      <td>1.0</td>\n",
              "      <td>...</td>\n",
              "      <td>175.58</td>\n",
              "      <td>87.790</td>\n",
              "      <td>house_products</td>\n",
              "      <td>190</td>\n",
              "      <td>0</td>\n",
              "      <td>1</td>\n",
              "      <td>0</td>\n",
              "      <td>0</td>\n",
              "      <td>0</td>\n",
              "      <td>1</td>\n",
              "    </tr>\n",
              "    <tr>\n",
              "      <th>00a39521eb40f7012db50455bf083460</th>\n",
              "      <td>2</td>\n",
              "      <td>2018-05-23 20:14:21</td>\n",
              "      <td>2018-06-03 10:12:57</td>\n",
              "      <td>18.233918</td>\n",
              "      <td>21.330023</td>\n",
              "      <td>4.0</td>\n",
              "      <td>4.0</td>\n",
              "      <td>4.0</td>\n",
              "      <td>credit_card</td>\n",
              "      <td>1.0</td>\n",
              "      <td>...</td>\n",
              "      <td>123.25</td>\n",
              "      <td>61.625</td>\n",
              "      <td>leasures</td>\n",
              "      <td>97</td>\n",
              "      <td>0</td>\n",
              "      <td>1</td>\n",
              "      <td>0</td>\n",
              "      <td>0</td>\n",
              "      <td>0</td>\n",
              "      <td>1</td>\n",
              "    </tr>\n",
              "  </tbody>\n",
              "</table>\n",
              "<p>5 rows × 23 columns</p>\n",
              "</div>\n",
              "    <div class=\"colab-df-buttons\">\n",
              "\n",
              "  <div class=\"colab-df-container\">\n",
              "    <button class=\"colab-df-convert\" onclick=\"convertToInteractive('df-bcfe3bcf-fc4b-4d67-a183-6ea813d36354')\"\n",
              "            title=\"Convert this dataframe to an interactive table.\"\n",
              "            style=\"display:none;\">\n",
              "\n",
              "  <svg xmlns=\"http://www.w3.org/2000/svg\" height=\"24px\" viewBox=\"0 -960 960 960\">\n",
              "    <path d=\"M120-120v-720h720v720H120Zm60-500h600v-160H180v160Zm220 220h160v-160H400v160Zm0 220h160v-160H400v160ZM180-400h160v-160H180v160Zm440 0h160v-160H620v160ZM180-180h160v-160H180v160Zm440 0h160v-160H620v160Z\"/>\n",
              "  </svg>\n",
              "    </button>\n",
              "\n",
              "  <style>\n",
              "    .colab-df-container {\n",
              "      display:flex;\n",
              "      gap: 12px;\n",
              "    }\n",
              "\n",
              "    .colab-df-convert {\n",
              "      background-color: #E8F0FE;\n",
              "      border: none;\n",
              "      border-radius: 50%;\n",
              "      cursor: pointer;\n",
              "      display: none;\n",
              "      fill: #1967D2;\n",
              "      height: 32px;\n",
              "      padding: 0 0 0 0;\n",
              "      width: 32px;\n",
              "    }\n",
              "\n",
              "    .colab-df-convert:hover {\n",
              "      background-color: #E2EBFA;\n",
              "      box-shadow: 0px 1px 2px rgba(60, 64, 67, 0.3), 0px 1px 3px 1px rgba(60, 64, 67, 0.15);\n",
              "      fill: #174EA6;\n",
              "    }\n",
              "\n",
              "    .colab-df-buttons div {\n",
              "      margin-bottom: 4px;\n",
              "    }\n",
              "\n",
              "    [theme=dark] .colab-df-convert {\n",
              "      background-color: #3B4455;\n",
              "      fill: #D2E3FC;\n",
              "    }\n",
              "\n",
              "    [theme=dark] .colab-df-convert:hover {\n",
              "      background-color: #434B5C;\n",
              "      box-shadow: 0px 1px 3px 1px rgba(0, 0, 0, 0.15);\n",
              "      filter: drop-shadow(0px 1px 2px rgba(0, 0, 0, 0.3));\n",
              "      fill: #FFFFFF;\n",
              "    }\n",
              "  </style>\n",
              "\n",
              "    <script>\n",
              "      const buttonEl =\n",
              "        document.querySelector('#df-bcfe3bcf-fc4b-4d67-a183-6ea813d36354 button.colab-df-convert');\n",
              "      buttonEl.style.display =\n",
              "        google.colab.kernel.accessAllowed ? 'block' : 'none';\n",
              "\n",
              "      async function convertToInteractive(key) {\n",
              "        const element = document.querySelector('#df-bcfe3bcf-fc4b-4d67-a183-6ea813d36354');\n",
              "        const dataTable =\n",
              "          await google.colab.kernel.invokeFunction('convertToInteractive',\n",
              "                                                    [key], {});\n",
              "        if (!dataTable) return;\n",
              "\n",
              "        const docLinkHtml = 'Like what you see? Visit the ' +\n",
              "          '<a target=\"_blank\" href=https://colab.research.google.com/notebooks/data_table.ipynb>data table notebook</a>'\n",
              "          + ' to learn more about interactive tables.';\n",
              "        element.innerHTML = '';\n",
              "        dataTable['output_type'] = 'display_data';\n",
              "        await google.colab.output.renderOutput(dataTable, element);\n",
              "        const docLink = document.createElement('div');\n",
              "        docLink.innerHTML = docLinkHtml;\n",
              "        element.appendChild(docLink);\n",
              "      }\n",
              "    </script>\n",
              "  </div>\n",
              "\n",
              "\n",
              "<div id=\"df-f5105831-db26-4111-a894-abed12991c16\">\n",
              "  <button class=\"colab-df-quickchart\" onclick=\"quickchart('df-f5105831-db26-4111-a894-abed12991c16')\"\n",
              "            title=\"Suggest charts\"\n",
              "            style=\"display:none;\">\n",
              "\n",
              "<svg xmlns=\"http://www.w3.org/2000/svg\" height=\"24px\"viewBox=\"0 0 24 24\"\n",
              "     width=\"24px\">\n",
              "    <g>\n",
              "        <path d=\"M19 3H5c-1.1 0-2 .9-2 2v14c0 1.1.9 2 2 2h14c1.1 0 2-.9 2-2V5c0-1.1-.9-2-2-2zM9 17H7v-7h2v7zm4 0h-2V7h2v10zm4 0h-2v-4h2v4z\"/>\n",
              "    </g>\n",
              "</svg>\n",
              "  </button>\n",
              "\n",
              "<style>\n",
              "  .colab-df-quickchart {\n",
              "      --bg-color: #E8F0FE;\n",
              "      --fill-color: #1967D2;\n",
              "      --hover-bg-color: #E2EBFA;\n",
              "      --hover-fill-color: #174EA6;\n",
              "      --disabled-fill-color: #AAA;\n",
              "      --disabled-bg-color: #DDD;\n",
              "  }\n",
              "\n",
              "  [theme=dark] .colab-df-quickchart {\n",
              "      --bg-color: #3B4455;\n",
              "      --fill-color: #D2E3FC;\n",
              "      --hover-bg-color: #434B5C;\n",
              "      --hover-fill-color: #FFFFFF;\n",
              "      --disabled-bg-color: #3B4455;\n",
              "      --disabled-fill-color: #666;\n",
              "  }\n",
              "\n",
              "  .colab-df-quickchart {\n",
              "    background-color: var(--bg-color);\n",
              "    border: none;\n",
              "    border-radius: 50%;\n",
              "    cursor: pointer;\n",
              "    display: none;\n",
              "    fill: var(--fill-color);\n",
              "    height: 32px;\n",
              "    padding: 0;\n",
              "    width: 32px;\n",
              "  }\n",
              "\n",
              "  .colab-df-quickchart:hover {\n",
              "    background-color: var(--hover-bg-color);\n",
              "    box-shadow: 0 1px 2px rgba(60, 64, 67, 0.3), 0 1px 3px 1px rgba(60, 64, 67, 0.15);\n",
              "    fill: var(--button-hover-fill-color);\n",
              "  }\n",
              "\n",
              "  .colab-df-quickchart-complete:disabled,\n",
              "  .colab-df-quickchart-complete:disabled:hover {\n",
              "    background-color: var(--disabled-bg-color);\n",
              "    fill: var(--disabled-fill-color);\n",
              "    box-shadow: none;\n",
              "  }\n",
              "\n",
              "  .colab-df-spinner {\n",
              "    border: 2px solid var(--fill-color);\n",
              "    border-color: transparent;\n",
              "    border-bottom-color: var(--fill-color);\n",
              "    animation:\n",
              "      spin 1s steps(1) infinite;\n",
              "  }\n",
              "\n",
              "  @keyframes spin {\n",
              "    0% {\n",
              "      border-color: transparent;\n",
              "      border-bottom-color: var(--fill-color);\n",
              "      border-left-color: var(--fill-color);\n",
              "    }\n",
              "    20% {\n",
              "      border-color: transparent;\n",
              "      border-left-color: var(--fill-color);\n",
              "      border-top-color: var(--fill-color);\n",
              "    }\n",
              "    30% {\n",
              "      border-color: transparent;\n",
              "      border-left-color: var(--fill-color);\n",
              "      border-top-color: var(--fill-color);\n",
              "      border-right-color: var(--fill-color);\n",
              "    }\n",
              "    40% {\n",
              "      border-color: transparent;\n",
              "      border-right-color: var(--fill-color);\n",
              "      border-top-color: var(--fill-color);\n",
              "    }\n",
              "    60% {\n",
              "      border-color: transparent;\n",
              "      border-right-color: var(--fill-color);\n",
              "    }\n",
              "    80% {\n",
              "      border-color: transparent;\n",
              "      border-right-color: var(--fill-color);\n",
              "      border-bottom-color: var(--fill-color);\n",
              "    }\n",
              "    90% {\n",
              "      border-color: transparent;\n",
              "      border-bottom-color: var(--fill-color);\n",
              "    }\n",
              "  }\n",
              "</style>\n",
              "\n",
              "  <script>\n",
              "    async function quickchart(key) {\n",
              "      const quickchartButtonEl =\n",
              "        document.querySelector('#' + key + ' button');\n",
              "      quickchartButtonEl.disabled = true;  // To prevent multiple clicks.\n",
              "      quickchartButtonEl.classList.add('colab-df-spinner');\n",
              "      try {\n",
              "        const charts = await google.colab.kernel.invokeFunction(\n",
              "            'suggestCharts', [key], {});\n",
              "      } catch (error) {\n",
              "        console.error('Error during call to suggestCharts:', error);\n",
              "      }\n",
              "      quickchartButtonEl.classList.remove('colab-df-spinner');\n",
              "      quickchartButtonEl.classList.add('colab-df-quickchart-complete');\n",
              "    }\n",
              "    (() => {\n",
              "      let quickchartButtonEl =\n",
              "        document.querySelector('#df-f5105831-db26-4111-a894-abed12991c16 button');\n",
              "      quickchartButtonEl.style.display =\n",
              "        google.colab.kernel.accessAllowed ? 'block' : 'none';\n",
              "    })();\n",
              "  </script>\n",
              "</div>\n",
              "    </div>\n",
              "  </div>\n"
            ],
            "application/vnd.google.colaboratory.intrinsic+json": {
              "type": "dataframe",
              "variable_name": "df1"
            }
          },
          "metadata": {},
          "execution_count": 5
        }
      ]
    },
    {
      "cell_type": "code",
      "source": [
        "df1.shape"
      ],
      "metadata": {
        "colab": {
          "base_uri": "https://localhost:8080/"
        },
        "id": "F_w56DEvyeM-",
        "outputId": "8eb16f96-76f6-4467-cc3e-403cc817a804"
      },
      "execution_count": 6,
      "outputs": [
        {
          "output_type": "execute_result",
          "data": {
            "text/plain": [
              "(20667, 23)"
            ]
          },
          "metadata": {},
          "execution_count": 6
        }
      ]
    },
    {
      "cell_type": "markdown",
      "source": [
        "##### On crée un dataframe \"de base\" contenant les données pour les 6 premiers mois, on en crée ensuite 9 autres en ajoutant un mois à chaque fois."
      ],
      "metadata": {
        "id": "fiSCrDLvseJl"
      }
    },
    {
      "cell_type": "code",
      "source": [
        "date_min = df1.first_purchase_date.min()"
      ],
      "metadata": {
        "id": "oi1ozNlVkMhG"
      },
      "execution_count": 7,
      "outputs": []
    },
    {
      "cell_type": "code",
      "source": [
        "df_t0 = df1[df1['first_purchase_date'] <= (date_min + pd.DateOffset(months=6))]"
      ],
      "metadata": {
        "id": "BCzGOtzQseJl"
      },
      "execution_count": 8,
      "outputs": []
    },
    {
      "cell_type": "code",
      "source": [
        "df_t0.shape"
      ],
      "metadata": {
        "colab": {
          "base_uri": "https://localhost:8080/"
        },
        "outputId": "71ed1e2d-3dd1-47b9-8518-3d055431bf80",
        "id": "J6OrowVpseJl"
      },
      "execution_count": 9,
      "outputs": [
        {
          "output_type": "execute_result",
          "data": {
            "text/plain": [
              "(1050, 23)"
            ]
          },
          "metadata": {},
          "execution_count": 9
        }
      ]
    },
    {
      "cell_type": "code",
      "source": [
        "# Listes qui contiendra les différents DF :\n",
        "liste_dataframes = []\n",
        "\n",
        "# Date fin dataframe précédent:\n",
        "date_max = df_t0['first_purchase_date'].max()\n",
        "\n",
        "# Nombre de dataframes à créer :\n",
        "nb_dataframes = 9\n",
        "\n",
        "# Boucle pour créer les dataframes\n",
        "for i in range(nb_dataframes):\n",
        "    # On calcule la date de fin pour chaque dataframe :\n",
        "    date_fin = date_max + pd.DateOffset(months = 1)\n",
        "\n",
        "    # On sélectionne les données entre date_debut et date_fin\n",
        "    df_temp = df1[df1['first_purchase_date'] <= date_fin]\n",
        "\n",
        "    # On ajoute le dataframe à la liste\n",
        "    liste_dataframes.append(df_temp)\n",
        "\n",
        "    # On met à jour la date max pour la prochaine itération\n",
        "    date_max = date_fin"
      ],
      "metadata": {
        "id": "qIr134WZseJm"
      },
      "execution_count": 10,
      "outputs": []
    },
    {
      "cell_type": "code",
      "source": [
        "# On définit nos DataFrames :\n",
        "df_t1 = liste_dataframes[0]\n",
        "df_t2 = liste_dataframes[1]\n",
        "df_t3 = liste_dataframes[2]\n",
        "df_t4 = liste_dataframes[3]\n",
        "df_t5 = liste_dataframes[4]\n",
        "df_t6 = liste_dataframes[5]\n",
        "df_t7 = liste_dataframes[6]\n",
        "df_t8 = liste_dataframes[7]\n",
        "df_t9 = liste_dataframes[8]\n",
        "\n",
        "# On ajoute df_t0 en première place de la liste :\n",
        "liste_dataframes = [df_t0, df_t1, df_t2, df_t3, df_t4, df_t5, df_t6, df_t7, df_t8, df_t9]"
      ],
      "metadata": {
        "id": "ez5XfHbQseJm"
      },
      "execution_count": 11,
      "outputs": []
    },
    {
      "cell_type": "markdown",
      "source": [
        "##### Evolution du nombre de clients"
      ],
      "metadata": {
        "id": "uRxjdgc96D1b"
      }
    },
    {
      "cell_type": "code",
      "source": [
        "# On crée une liste pour stocker les tailles des dataframes\n",
        "tailles_dataframes = [df.shape[0] for df in liste_dataframes]\n",
        "periodes = [f\"t{i}\" for i in range(len(liste_dataframes))]\n",
        "# On trace les tailles des dataframes par rapport à leur nom\n",
        "plt.plot(periodes, tailles_dataframes, marker='o')\n",
        "plt.xlabel('Périodes')\n",
        "plt.ylabel('Nombre de clients')\n",
        "plt.title(\"Evolution du nombre de clients par périodes (t0 = 6 mois, ajout d'un mois par période ensuite)\", pad = 20)\n",
        "plt.show()"
      ],
      "metadata": {
        "colab": {
          "base_uri": "https://localhost:8080/",
          "height": 543
        },
        "outputId": "edf833ea-146c-4fa8-c077-1ce360345f54",
        "id": "kfrsaCdMseJn"
      },
      "execution_count": 12,
      "outputs": [
        {
          "output_type": "display_data",
          "data": {
            "text/plain": [
              "<Figure size 800x550 with 1 Axes>"
            ],
            "image/png": "[encoded data removed]"
          },
          "metadata": {}
        }
      ]
    },
    {
      "cell_type": "markdown",
      "source": [
        "##### Preprocessing"
      ],
      "metadata": {
        "id": "M_Z1hBtIseJn"
      }
    },
    {
      "cell_type": "code",
      "source": [
        "# Séparation des variables et application de différents 'transformers':\n",
        "skw_vars = ['nb_orders', 'total_price', 'mean_review_score']\n",
        "vars_to_scale = ['recency']\n",
        "var_pass = [\"delivery_delay\"]\n",
        "all_fts = [*skw_vars, *vars_to_scale, *var_pass]\n",
        "\n",
        "log_transformer = FunctionTransformer(func=np.log1p)\n",
        "pre_processor = make_column_transformer(\n",
        "        (make_pipeline(log_transformer, StandardScaler()), skw_vars),\n",
        "        (StandardScaler(), vars_to_scale),\n",
        "        ('passthrough', var_pass)\n",
        ")"
      ],
      "metadata": {
        "id": "BAEh4K1XseJn"
      },
      "execution_count": 13,
      "outputs": []
    },
    {
      "cell_type": "code",
      "source": [
        "def preprocessing(df):\n",
        "  X_scaled = pre_processor.fit_transform(df)\n",
        "  X_scaled_df = pd.DataFrame(data = X_scaled, columns = all_fts, index = df.index)\n",
        "  return X_scaled_df"
      ],
      "metadata": {
        "id": "o3SKVWHIseJn"
      },
      "execution_count": 14,
      "outputs": []
    },
    {
      "cell_type": "code",
      "source": [
        "# On crée des dataframes avec les données scalées de chaque période :\n",
        "\n",
        "X_scaled_df_t0 = preprocessing(df_t0)\n",
        "X_scaled_df_t1 = preprocessing(df_t1)\n",
        "X_scaled_df_t2 = preprocessing(df_t2)\n",
        "X_scaled_df_t3 = preprocessing(df_t3)\n",
        "X_scaled_df_t4 = preprocessing(df_t4)\n",
        "X_scaled_df_t5 = preprocessing(df_t5)\n",
        "X_scaled_df_t6 = preprocessing(df_t6)\n",
        "X_scaled_df_t7 = preprocessing(df_t7)\n",
        "X_scaled_df_t8 = preprocessing(df_t8)\n",
        "X_scaled_df_t9 = preprocessing(df_t9)\n",
        "\n",
        "liste_scaled_df = [X_scaled_df_t0, X_scaled_df_t1, X_scaled_df_t2, X_scaled_df_t3, X_scaled_df_t4, X_scaled_df_t5, X_scaled_df_t6, X_scaled_df_t7, X_scaled_df_t8, X_scaled_df_t9]"
      ],
      "metadata": {
        "id": "8wcnzCuoseJn"
      },
      "execution_count": 15,
      "outputs": []
    },
    {
      "cell_type": "markdown",
      "source": [
        "##### Entrainement du modèle en t0"
      ],
      "metadata": {
        "id": "rnyo9pGqseJn"
      }
    },
    {
      "cell_type": "code",
      "source": [
        "kmeans_t0 = KMeans(n_clusters=5, n_init = 10, random_state = 22)\n",
        "kmeans_t0.fit(X_scaled_df_t0)"
      ],
      "metadata": {
        "colab": {
          "base_uri": "https://localhost:8080/",
          "height": 80
        },
        "id": "8bUHrt72YQuU",
        "outputId": "daef729c-187c-4275-a5ed-d1431fca7f73"
      },
      "execution_count": 16,
      "outputs": [
        {
          "output_type": "execute_result",
          "data": {
            "text/plain": [
              "KMeans(n_clusters=5, n_init=10, random_state=22)"
            ],
            "text/html": [
              "<style>#sk-container-id-1 {\n",
              "  /* Definition of color scheme common for light and dark mode */\n",
              "  --sklearn-color-text: black;\n",
              "  --sklearn-color-line: gray;\n",
              "  /* Definition of color scheme for unfitted estimators */\n",
              "  --sklearn-color-unfitted-level-0: #fff5e6;\n",
              "  --sklearn-color-unfitted-level-1: #f6e4d2;\n",
              "  --sklearn-color-unfitted-level-2: #ffe0b3;\n",
              "  --sklearn-color-unfitted-level-3: chocolate;\n",
              "  /* Definition of color scheme for fitted estimators */\n",
              "  --sklearn-color-fitted-level-0: #f0f8ff;\n",
              "  --sklearn-color-fitted-level-1: #d4ebff;\n",
              "  --sklearn-color-fitted-level-2: #b3dbfd;\n",
              "  --sklearn-color-fitted-level-3: cornflowerblue;\n",
              "\n",
              "  /* Specific color for light theme */\n",
              "  --sklearn-color-text-on-default-background: var(--sg-text-color, var(--theme-code-foreground, var(--jp-content-font-color1, black)));\n",
              "  --sklearn-color-background: var(--sg-background-color, var(--theme-background, var(--jp-layout-color0, white)));\n",
              "  --sklearn-color-border-box: var(--sg-text-color, var(--theme-code-foreground, var(--jp-content-font-color1, black)));\n",
              "  --sklearn-color-icon: #696969;\n",
              "\n",
              "  @media (prefers-color-scheme: dark) {\n",
              "    /* Redefinition of color scheme for dark theme */\n",
              "    --sklearn-color-text-on-default-background: var(--sg-text-color, var(--theme-code-foreground, var(--jp-content-font-color1, white)));\n",
              "    --sklearn-color-background: var(--sg-background-color, var(--theme-background, var(--jp-layout-color0, #111)));\n",
              "    --sklearn-color-border-box: var(--sg-text-color, var(--theme-code-foreground, var(--jp-content-font-color1, white)));\n",
              "    --sklearn-color-icon: #878787;\n",
              "  }\n",
              "}\n",
              "\n",
              "#sk-container-id-1 {\n",
              "  color: var(--sklearn-color-text);\n",
              "}\n",
              "\n",
              "#sk-container-id-1 pre {\n",
              "  padding: 0;\n",
              "}\n",
              "\n",
              "#sk-container-id-1 input.sk-hidden--visually {\n",
              "  border: 0;\n",
              "  clip: rect(1px 1px 1px 1px);\n",
              "  clip: rect(1px, 1px, 1px, 1px);\n",
              "  height: 1px;\n",
              "  margin: -1px;\n",
              "  overflow: hidden;\n",
              "  padding: 0;\n",
              "  position: absolute;\n",
              "  width: 1px;\n",
              "}\n",
              "\n",
              "#sk-container-id-1 div.sk-dashed-wrapped {\n",
              "  border: 1px dashed var(--sklearn-color-line);\n",
              "  margin: 0 0.4em 0.5em 0.4em;\n",
              "  box-sizing: border-box;\n",
              "  padding-bottom: 0.4em;\n",
              "  background-color: var(--sklearn-color-background);\n",
              "}\n",
              "\n",
              "#sk-container-id-1 div.sk-container {\n",
              "  /* jupyter's `normalize.less` sets `[hidden] { display: none; }`\n",
              "     but bootstrap.min.css set `[hidden] { display: none !important; }`\n",
              "     so we also need the `!important` here to be able to override the\n",
              "     default hidden behavior on the sphinx rendered scikit-learn.org.\n",
              "     See: https://github.com/scikit-learn/scikit-learn/issues/21755 */\n",
              "  display: inline-block !important;\n",
              "  position: relative;\n",
              "}\n",
              "\n",
              "#sk-container-id-1 div.sk-text-repr-fallback {\n",
              "  display: none;\n",
              "}\n",
              "\n",
              "div.sk-parallel-item,\n",
              "div.sk-serial,\n",
              "div.sk-item {\n",
              "  /* draw centered vertical line to link estimators */\n",
              "  background-image: linear-gradient(var(--sklearn-color-text-on-default-background), var(--sklearn-color-text-on-default-background));\n",
              "  background-size: 2px 100%;\n",
              "  background-repeat: no-repeat;\n",
              "  background-position: center center;\n",
              "}\n",
              "\n",
              "/* Parallel-specific style estimator block */\n",
              "\n",
              "#sk-container-id-1 div.sk-parallel-item::after {\n",
              "  content: \"\";\n",
              "  width: 100%;\n",
              "  border-bottom: 2px solid var(--sklearn-color-text-on-default-background);\n",
              "  flex-grow: 1;\n",
              "}\n",
              "\n",
              "#sk-container-id-1 div.sk-parallel {\n",
              "  display: flex;\n",
              "  align-items: stretch;\n",
              "  justify-content: center;\n",
              "  background-color: var(--sklearn-color-background);\n",
              "  position: relative;\n",
              "}\n",
              "\n",
              "#sk-container-id-1 div.sk-parallel-item {\n",
              "  display: flex;\n",
              "  flex-direction: column;\n",
              "}\n",
              "\n",
              "#sk-container-id-1 div.sk-parallel-item:first-child::after {\n",
              "  align-self: flex-end;\n",
              "  width: 50%;\n",
              "}\n",
              "\n",
              "#sk-container-id-1 div.sk-parallel-item:last-child::after {\n",
              "  align-self: flex-start;\n",
              "  width: 50%;\n",
              "}\n",
              "\n",
              "#sk-container-id-1 div.sk-parallel-item:only-child::after {\n",
              "  width: 0;\n",
              "}\n",
              "\n",
              "/* Serial-specific style estimator block */\n",
              "\n",
              "#sk-container-id-1 div.sk-serial {\n",
              "  display: flex;\n",
              "  flex-direction: column;\n",
              "  align-items: center;\n",
              "  background-color: var(--sklearn-color-background);\n",
              "  padding-right: 1em;\n",
              "  padding-left: 1em;\n",
              "}\n",
              "\n",
              "\n",
              "/* Toggleable style: style used for estimator/Pipeline/ColumnTransformer box that is\n",
              "clickable and can be expanded/collapsed.\n",
              "- Pipeline and ColumnTransformer use this feature and define the default style\n",
              "- Estimators will overwrite some part of the style using the `sk-estimator` class\n",
              "*/\n",
              "\n",
              "/* Pipeline and ColumnTransformer style (default) */\n",
              "\n",
              "#sk-container-id-1 div.sk-toggleable {\n",
              "  /* Default theme specific background. It is overwritten whether we have a\n",
              "  specific estimator or a Pipeline/ColumnTransformer */\n",
              "  background-color: var(--sklearn-color-background);\n",
              "}\n",
              "\n",
              "/* Toggleable label */\n",
              "#sk-container-id-1 label.sk-toggleable__label {\n",
              "  cursor: pointer;\n",
              "  display: block;\n",
              "  width: 100%;\n",
              "  margin-bottom: 0;\n",
              "  padding: 0.5em;\n",
              "  box-sizing: border-box;\n",
              "  text-align: center;\n",
              "}\n",
              "\n",
              "#sk-container-id-1 label.sk-toggleable__label-arrow:before {\n",
              "  /* Arrow on the left of the label */\n",
              "  content: \"▸\";\n",
              "  float: left;\n",
              "  margin-right: 0.25em;\n",
              "  color: var(--sklearn-color-icon);\n",
              "}\n",
              "\n",
              "#sk-container-id-1 label.sk-toggleable__label-arrow:hover:before {\n",
              "  color: var(--sklearn-color-text);\n",
              "}\n",
              "\n",
              "/* Toggleable content - dropdown */\n",
              "\n",
              "#sk-container-id-1 div.sk-toggleable__content {\n",
              "  max-height: 0;\n",
              "  max-width: 0;\n",
              "  overflow: hidden;\n",
              "  text-align: left;\n",
              "  /* unfitted */\n",
              "  background-color: var(--sklearn-color-unfitted-level-0);\n",
              "}\n",
              "\n",
              "#sk-container-id-1 div.sk-toggleable__content.fitted {\n",
              "  /* fitted */\n",
              "  background-color: var(--sklearn-color-fitted-level-0);\n",
              "}\n",
              "\n",
              "#sk-container-id-1 div.sk-toggleable__content pre {\n",
              "  margin: 0.2em;\n",
              "  border-radius: 0.25em;\n",
              "  color: var(--sklearn-color-text);\n",
              "  /* unfitted */\n",
              "  background-color: var(--sklearn-color-unfitted-level-0);\n",
              "}\n",
              "\n",
              "#sk-container-id-1 div.sk-toggleable__content.fitted pre {\n",
              "  /* unfitted */\n",
              "  background-color: var(--sklearn-color-fitted-level-0);\n",
              "}\n",
              "\n",
              "#sk-container-id-1 input.sk-toggleable__control:checked~div.sk-toggleable__content {\n",
              "  /* Expand drop-down */\n",
              "  max-height: 200px;\n",
              "  max-width: 100%;\n",
              "  overflow: auto;\n",
              "}\n",
              "\n",
              "#sk-container-id-1 input.sk-toggleable__control:checked~label.sk-toggleable__label-arrow:before {\n",
              "  content: \"▾\";\n",
              "}\n",
              "\n",
              "/* Pipeline/ColumnTransformer-specific style */\n",
              "\n",
              "#sk-container-id-1 div.sk-label input.sk-toggleable__control:checked~label.sk-toggleable__label {\n",
              "  color: var(--sklearn-color-text);\n",
              "  background-color: var(--sklearn-color-unfitted-level-2);\n",
              "}\n",
              "\n",
              "#sk-container-id-1 div.sk-label.fitted input.sk-toggleable__control:checked~label.sk-toggleable__label {\n",
              "  background-color: var(--sklearn-color-fitted-level-2);\n",
              "}\n",
              "\n",
              "/* Estimator-specific style */\n",
              "\n",
              "/* Colorize estimator box */\n",
              "#sk-container-id-1 div.sk-estimator input.sk-toggleable__control:checked~label.sk-toggleable__label {\n",
              "  /* unfitted */\n",
              "  background-color: var(--sklearn-color-unfitted-level-2);\n",
              "}\n",
              "\n",
              "#sk-container-id-1 div.sk-estimator.fitted input.sk-toggleable__control:checked~label.sk-toggleable__label {\n",
              "  /* fitted */\n",
              "  background-color: var(--sklearn-color-fitted-level-2);\n",
              "}\n",
              "\n",
              "#sk-container-id-1 div.sk-label label.sk-toggleable__label,\n",
              "#sk-container-id-1 div.sk-label label {\n",
              "  /* The background is the default theme color */\n",
              "  color: var(--sklearn-color-text-on-default-background);\n",
              "}\n",
              "\n",
              "/* On hover, darken the color of the background */\n",
              "#sk-container-id-1 div.sk-label:hover label.sk-toggleable__label {\n",
              "  color: var(--sklearn-color-text);\n",
              "  background-color: var(--sklearn-color-unfitted-level-2);\n",
              "}\n",
              "\n",
              "/* Label box, darken color on hover, fitted */\n",
              "#sk-container-id-1 div.sk-label.fitted:hover label.sk-toggleable__label.fitted {\n",
              "  color: var(--sklearn-color-text);\n",
              "  background-color: var(--sklearn-color-fitted-level-2);\n",
              "}\n",
              "\n",
              "/* Estimator label */\n",
              "\n",
              "#sk-container-id-1 div.sk-label label {\n",
              "  font-family: monospace;\n",
              "  font-weight: bold;\n",
              "  display: inline-block;\n",
              "  line-height: 1.2em;\n",
              "}\n",
              "\n",
              "#sk-container-id-1 div.sk-label-container {\n",
              "  text-align: center;\n",
              "}\n",
              "\n",
              "/* Estimator-specific */\n",
              "#sk-container-id-1 div.sk-estimator {\n",
              "  font-family: monospace;\n",
              "  border: 1px dotted var(--sklearn-color-border-box);\n",
              "  border-radius: 0.25em;\n",
              "  box-sizing: border-box;\n",
              "  margin-bottom: 0.5em;\n",
              "  /* unfitted */\n",
              "  background-color: var(--sklearn-color-unfitted-level-0);\n",
              "}\n",
              "\n",
              "#sk-container-id-1 div.sk-estimator.fitted {\n",
              "  /* fitted */\n",
              "  background-color: var(--sklearn-color-fitted-level-0);\n",
              "}\n",
              "\n",
              "/* on hover */\n",
              "#sk-container-id-1 div.sk-estimator:hover {\n",
              "  /* unfitted */\n",
              "  background-color: var(--sklearn-color-unfitted-level-2);\n",
              "}\n",
              "\n",
              "#sk-container-id-1 div.sk-estimator.fitted:hover {\n",
              "  /* fitted */\n",
              "  background-color: var(--sklearn-color-fitted-level-2);\n",
              "}\n",
              "\n",
              "/* Specification for estimator info (e.g. \"i\" and \"?\") */\n",
              "\n",
              "/* Common style for \"i\" and \"?\" */\n",
              "\n",
              ".sk-estimator-doc-link,\n",
              "a:link.sk-estimator-doc-link,\n",
              "a:visited.sk-estimator-doc-link {\n",
              "  float: right;\n",
              "  font-size: smaller;\n",
              "  line-height: 1em;\n",
              "  font-family: monospace;\n",
              "  background-color: var(--sklearn-color-background);\n",
              "  border-radius: 1em;\n",
              "  height: 1em;\n",
              "  width: 1em;\n",
              "  text-decoration: none !important;\n",
              "  margin-left: 1ex;\n",
              "  /* unfitted */\n",
              "  border: var(--sklearn-color-unfitted-level-1) 1pt solid;\n",
              "  color: var(--sklearn-color-unfitted-level-1);\n",
              "}\n",
              "\n",
              ".sk-estimator-doc-link.fitted,\n",
              "a:link.sk-estimator-doc-link.fitted,\n",
              "a:visited.sk-estimator-doc-link.fitted {\n",
              "  /* fitted */\n",
              "  border: var(--sklearn-color-fitted-level-1) 1pt solid;\n",
              "  color: var(--sklearn-color-fitted-level-1);\n",
              "}\n",
              "\n",
              "/* On hover */\n",
              "div.sk-estimator:hover .sk-estimator-doc-link:hover,\n",
              ".sk-estimator-doc-link:hover,\n",
              "div.sk-label-container:hover .sk-estimator-doc-link:hover,\n",
              ".sk-estimator-doc-link:hover {\n",
              "  /* unfitted */\n",
              "  background-color: var(--sklearn-color-unfitted-level-3);\n",
              "  color: var(--sklearn-color-background);\n",
              "  text-decoration: none;\n",
              "}\n",
              "\n",
              "div.sk-estimator.fitted:hover .sk-estimator-doc-link.fitted:hover,\n",
              ".sk-estimator-doc-link.fitted:hover,\n",
              "div.sk-label-container:hover .sk-estimator-doc-link.fitted:hover,\n",
              ".sk-estimator-doc-link.fitted:hover {\n",
              "  /* fitted */\n",
              "  background-color: var(--sklearn-color-fitted-level-3);\n",
              "  color: var(--sklearn-color-background);\n",
              "  text-decoration: none;\n",
              "}\n",
              "\n",
              "/* Span, style for the box shown on hovering the info icon */\n",
              ".sk-estimator-doc-link span {\n",
              "  display: none;\n",
              "  z-index: 9999;\n",
              "  position: relative;\n",
              "  font-weight: normal;\n",
              "  right: .2ex;\n",
              "  padding: .5ex;\n",
              "  margin: .5ex;\n",
              "  width: min-content;\n",
              "  min-width: 20ex;\n",
              "  max-width: 50ex;\n",
              "  color: var(--sklearn-color-text);\n",
              "  box-shadow: 2pt 2pt 4pt #999;\n",
              "  /* unfitted */\n",
              "  background: var(--sklearn-color-unfitted-level-0);\n",
              "  border: .5pt solid var(--sklearn-color-unfitted-level-3);\n",
              "}\n",
              "\n",
              ".sk-estimator-doc-link.fitted span {\n",
              "  /* fitted */\n",
              "  background: var(--sklearn-color-fitted-level-0);\n",
              "  border: var(--sklearn-color-fitted-level-3);\n",
              "}\n",
              "\n",
              ".sk-estimator-doc-link:hover span {\n",
              "  display: block;\n",
              "}\n",
              "\n",
              "/* \"?\"-specific style due to the `<a>` HTML tag */\n",
              "\n",
              "#sk-container-id-1 a.estimator_doc_link {\n",
              "  float: right;\n",
              "  font-size: 1rem;\n",
              "  line-height: 1em;\n",
              "  font-family: monospace;\n",
              "  background-color: var(--sklearn-color-background);\n",
              "  border-radius: 1rem;\n",
              "  height: 1rem;\n",
              "  width: 1rem;\n",
              "  text-decoration: none;\n",
              "  /* unfitted */\n",
              "  color: var(--sklearn-color-unfitted-level-1);\n",
              "  border: var(--sklearn-color-unfitted-level-1) 1pt solid;\n",
              "}\n",
              "\n",
              "#sk-container-id-1 a.estimator_doc_link.fitted {\n",
              "  /* fitted */\n",
              "  border: var(--sklearn-color-fitted-level-1) 1pt solid;\n",
              "  color: var(--sklearn-color-fitted-level-1);\n",
              "}\n",
              "\n",
              "/* On hover */\n",
              "#sk-container-id-1 a.estimator_doc_link:hover {\n",
              "  /* unfitted */\n",
              "  background-color: var(--sklearn-color-unfitted-level-3);\n",
              "  color: var(--sklearn-color-background);\n",
              "  text-decoration: none;\n",
              "}\n",
              "\n",
              "#sk-container-id-1 a.estimator_doc_link.fitted:hover {\n",
              "  /* fitted */\n",
              "  background-color: var(--sklearn-color-fitted-level-3);\n",
              "}\n",
              "</style><div id=\"sk-container-id-1\" class=\"sk-top-container\"><div class=\"sk-text-repr-fallback\"><pre>KMeans(n_clusters=5, n_init=10, random_state=22)</pre><b>In a Jupyter environment, please rerun this cell to show the HTML representation or trust the notebook. <br />On GitHub, the HTML representation is unable to render, please try loading this page with nbviewer.org.</b></div><div class=\"sk-container\" hidden><div class=\"sk-item\"><div class=\"sk-estimator fitted sk-toggleable\"><input class=\"sk-toggleable__control sk-hidden--visually\" id=\"sk-estimator-id-1\" type=\"checkbox\" checked><label for=\"sk-estimator-id-1\" class=\"sk-toggleable__label fitted sk-toggleable__label-arrow fitted\">&nbsp;&nbsp;KMeans<a class=\"sk-estimator-doc-link fitted\" rel=\"noreferrer\" target=\"_blank\" href=\"https://scikit-learn.org/1.4/modules/generated/sklearn.cluster.KMeans.html\">?<span>Documentation for KMeans</span></a><span class=\"sk-estimator-doc-link fitted\">i<span>Fitted</span></span></label><div class=\"sk-toggleable__content fitted\"><pre>KMeans(n_clusters=5, n_init=10, random_state=22)</pre></div> </div></div></div></div>"
            ]
          },
          "metadata": {},
          "execution_count": 16
        }
      ]
    },
    {
      "cell_type": "markdown",
      "source": [
        "Définition d'une fonction qui renvoi les labels du modèle entraîné à la date t :"
      ],
      "metadata": {
        "id": "p3zNWg4mYYOU"
      }
    },
    {
      "cell_type": "code",
      "source": [
        "def label_t(df):\n",
        "  model = KMeans(n_clusters=5, n_init = 10, random_state = 22)\n",
        "  model.fit(df)\n",
        "  label = model.labels_\n",
        "  return label"
      ],
      "metadata": {
        "id": "Ikdj9MndYgut"
      },
      "execution_count": 17,
      "outputs": []
    },
    {
      "cell_type": "markdown",
      "source": [
        "##### Calcul et visualisation de l'ARI au cours du temps"
      ],
      "metadata": {
        "id": "ICjqsdtfYqtt"
      }
    },
    {
      "cell_type": "markdown",
      "source": [
        "Idée :\n",
        "\n",
        "-> créer une liste d'ARI.\n",
        "\n",
        "-> Faire une boucle qui calcule les ARI en comparant les labels renvoyés par le modèle entrainé en t0 à ceux du modèle entrainé en t.\n",
        "\n",
        "-> Tant que l'ARI est > à un certain seuil, on ajoute l'ARI calculé de la sorte à la liste\n",
        "\n",
        "-> Si l'ari est < à ce seuil, alors on \"met à jour le modèle\" et on prend la version entrainée en t et on compare de nouveaux les labels."
      ],
      "metadata": {
        "id": "2aZ_WtNeYqtw"
      }
    },
    {
      "cell_type": "code",
      "source": [
        "ARI_list = [adjusted_rand_score(kmeans_t0.labels_, kmeans_t0.labels_)]\n",
        "ARI_threshold = 0.9\n",
        "model = kmeans_t0\n",
        "for i, df, X_scaled_df in zip(range(len(liste_dataframes[1:])), liste_dataframes[1:], liste_scaled_df[1:]):\n",
        "  label = model.predict(X_scaled_df)\n",
        "  ari=adjusted_rand_score(label, label_t(X_scaled_df))\n",
        "  if ari >= ARI_threshold:\n",
        "    print(f\"A la période {i + 1}, le modèle est toujours pertinent\")\n",
        "    ARI_list.append(ari)\n",
        "  else:\n",
        "    print(f\"A la période {i + 1}, le modèle n'est plus pertinent, on le met à jour\")\n",
        "    model = KMeans(n_clusters=5, n_init = 10, random_state = 22).fit(X_scaled_df)\n",
        "    label = model.predict(X_scaled_df)\n",
        "    ari=adjusted_rand_score(label, label)\n",
        "    ARI_list.append(ari)\n",
        "\n",
        "# Visualisation :\n",
        "plt.figure()\n",
        "plt.plot(range(len(ARI_list)), ARI_list)\n",
        "plt.xticks(range(len(ARI_list)), [f\"t{i}\" for i in range(len(ARI_list))])\n",
        "plt.ylabel(\"ARI-Score\")\n",
        "plt.ylim([0.9, 1])\n",
        "plt.title(f\"Evolution de l'ARI - seuil fixé à {ARI_threshold}\", pad = 20)\n",
        "plt.show()"
      ],
      "metadata": {
        "colab": {
          "base_uri": "https://localhost:8080/",
          "height": 685
        },
        "outputId": "c110843d-f9c6-4bc4-8d12-472c2b4c2961",
        "id": "gSCNIrSNYqtx"
      },
      "execution_count": 18,
      "outputs": [
        {
          "output_type": "stream",
          "name": "stdout",
          "text": [
            "A la période 1, le modèle est toujours pertinent\n",
            "A la période 2, le modèle n'est plus pertinent, on le met à jour\n",
            "A la période 3, le modèle est toujours pertinent\n",
            "A la période 4, le modèle est toujours pertinent\n",
            "A la période 5, le modèle est toujours pertinent\n",
            "A la période 6, le modèle est toujours pertinent\n",
            "A la période 7, le modèle est toujours pertinent\n",
            "A la période 8, le modèle est toujours pertinent\n",
            "A la période 9, le modèle n'est plus pertinent, on le met à jour\n"
          ]
        },
        {
          "output_type": "display_data",
          "data": {
            "text/plain": [
              "<Figure size 800x550 with 1 Axes>"
            ],
            "image/png": "[encoded data removed]"
          },
          "metadata": {}
        }
      ]
    },
    {
      "cell_type": "markdown",
      "source": [
        "##### Visualisation des trajectoires des centroïdes pour les clients composant le dataframe de la 1e période:"
      ],
      "metadata": {
        "id": "dYUyCDBvhY-4"
      }
    },
    {
      "cell_type": "code",
      "source": [
        "df_t0.loc[:, \"k0_labels\"] = kmeans_t0.fit_predict(X_scaled_df_t0)\n",
        "idx_label_00 = df_t0.loc[:, \"k0_labels\"].index"
      ],
      "metadata": {
        "id": "4EYgNWTohY-5"
      },
      "execution_count": 19,
      "outputs": []
    },
    {
      "cell_type": "code",
      "source": [
        "pca = PCA()\n",
        "pca = pca.fit(X_scaled_df_t0.loc[idx_label_00, :])\n",
        "X_proj = pca.transform(X_scaled_df_t0.loc[idx_label_00, :])"
      ],
      "metadata": {
        "id": "Vj-A2JE6hY-5"
      },
      "execution_count": 20,
      "outputs": []
    },
    {
      "cell_type": "code",
      "source": [
        "# On récupère les centroïdes pour chaque période, puis les transforme via la PCA :\n",
        "centroids_maintenance = []\n",
        "for scaled_df in liste_scaled_df:\n",
        "  model = KMeans(n_clusters=5, n_init = 10, random_state = 22).fit(scaled_df.loc[idx_label_00, :])\n",
        "  centroids = model.cluster_centers_\n",
        "  pca_centroids = pca.transform(centroids)\n",
        "  #pca_centroids_2d = pca_centroids[:, :2]\n",
        "  centroids_maintenance.append(pca_centroids)\n",
        "\n",
        "# Visualisation :\n",
        "plt.figure(figsize=(8, 6))\n",
        "palette = sns.color_palette(\"rocket\", len(centroids_maintenance))\n",
        "\n",
        "for i, centroids in enumerate(centroids_maintenance):\n",
        "    sns.scatterplot(x=centroids[:, 0], y=centroids[:, 1], marker='o', color=palette[i], label=f't {i}')\n",
        "\n",
        "plt.title('Projection des centroïdes sur le 1er plan PCA')\n",
        "plt.legend(bbox_to_anchor=(1, 0.5))\n",
        "plt.grid(False)\n",
        "plt.show()"
      ],
      "metadata": {
        "colab": {
          "base_uri": "https://localhost:8080/",
          "height": 543
        },
        "outputId": "3b61b092-a138-41ff-86c2-6a9c806c73ba",
        "id": "aBgz8-MzhY-6"
      },
      "execution_count": 21,
      "outputs": [
        {
          "output_type": "display_data",
          "data": {
            "text/plain": [
              "<Figure size 800x600 with 1 Axes>"
            ],
            "image/png": "[encoded data removed]"
          },
          "metadata": {}
        }
      ]
    },
    {
      "cell_type": "code",
      "source": [
        "# On récupère les centroïdes pour chaque période, puis les transforme via la PCA :\n",
        "centroids_maintenance = []\n",
        "for scaled_df in liste_scaled_df:\n",
        "  model = KMeans(n_clusters=5, n_init = 10, random_state = 22).fit(scaled_df.loc[idx_label_00, :])\n",
        "  centroids = model.cluster_centers_\n",
        "  pca_centroids = pca.transform(centroids)\n",
        "  #pca_centroids_2d = pca_centroids[:, :2]\n",
        "  centroids_maintenance.append(pca_centroids)\n",
        "\n",
        "# Visualisation :\n",
        "plt.figure(figsize=(8, 6))\n",
        "palette = sns.color_palette(\"rocket\", len(centroids_maintenance))\n",
        "\n",
        "for i, centroids in enumerate(centroids_maintenance):\n",
        "    sns.scatterplot(x=centroids[:, 1], y=centroids[:, 2], marker='o', color=palette[i], label=f't {i}')\n",
        "\n",
        "plt.title('Projection des centroïdes sur le 2e plan PCA')\n",
        "plt.legend(bbox_to_anchor=(1, 0.5))\n",
        "plt.grid(False)\n",
        "plt.show()"
      ],
      "metadata": {
        "colab": {
          "base_uri": "https://localhost:8080/",
          "height": 543
        },
        "id": "L7I3i9qp4JUV",
        "outputId": "df97064b-293e-4a5c-dd88-15b6710f0561"
      },
      "execution_count": 22,
      "outputs": [
        {
          "output_type": "display_data",
          "data": {
            "text/plain": [
              "<Figure size 800x600 with 1 Axes>"
            ],
            "image/png": "[encoded data removed]"
          },
          "metadata": {}
        }
      ]
    },
    {
      "cell_type": "markdown",
      "source": [
        "#### Tentative avec dataset complet, 1er dataframe de 6 mois et évolution tous les mois :"
      ],
      "metadata": {
        "id": "MwUtNtpnaQUs"
      }
    },
    {
      "cell_type": "code",
      "source": [
        "# Import du jeu de données\n",
        "data = pd.read_csv(\"/content/drive/My Drive/Formation/Notebooks/jeu_donnees_clustering_maintenance.csv\",\n",
        "                    index_col=\"customer_unique_id\", parse_dates=[\"last_purchase_date\", \"first_purchase_date\"])"
      ],
      "metadata": {
        "id": "uWYZQ6DgaQUt"
      },
      "execution_count": 23,
      "outputs": []
    },
    {
      "cell_type": "code",
      "source": [
        "date_min = data.first_purchase_date.min()"
      ],
      "metadata": {
        "id": "X_qRMVaRaQUu"
      },
      "execution_count": 24,
      "outputs": []
    },
    {
      "cell_type": "code",
      "source": [
        "df_t0 = data[data['first_purchase_date'] <= (date_min + pd.DateOffset(months=6))]"
      ],
      "metadata": {
        "id": "JFNranwyaQUu"
      },
      "execution_count": 25,
      "outputs": []
    },
    {
      "cell_type": "code",
      "source": [
        "df_t0.shape"
      ],
      "metadata": {
        "colab": {
          "base_uri": "https://localhost:8080/"
        },
        "outputId": "79ff4f2e-2b16-4f39-9b23-90d1e492684f",
        "id": "kBWUq8dMaQUu"
      },
      "execution_count": 26,
      "outputs": [
        {
          "output_type": "execute_result",
          "data": {
            "text/plain": [
              "(4946, 23)"
            ]
          },
          "metadata": {},
          "execution_count": 26
        }
      ]
    },
    {
      "cell_type": "code",
      "source": [
        "# Listes qui contiendra les différents DF :\n",
        "liste_dataframes = []\n",
        "\n",
        "# Date fin dataframe précédent:\n",
        "date_max = df_t0['first_purchase_date'].max()\n",
        "\n",
        "# Nombre de dataframes à créer\n",
        "nb_dataframes = 9\n",
        "\n",
        "# Boucle pour créer les dataframes\n",
        "for i in range(nb_dataframes):\n",
        "    # On calcule la date de fin pour chaque dataframe :\n",
        "    date_fin = date_max + pd.DateOffset(months=1)\n",
        "\n",
        "    # On sélectionne les données entre date_debut et date_fin\n",
        "    df_temp = data[data['first_purchase_date'] <= date_fin]\n",
        "\n",
        "    # On ajoute le dataframe à la liste\n",
        "    liste_dataframes.append(df_temp)\n",
        "\n",
        "    # On met à jour la date max pour la prochaine itération\n",
        "    date_max = date_fin"
      ],
      "metadata": {
        "id": "--qnxhTfaQUv"
      },
      "execution_count": 27,
      "outputs": []
    },
    {
      "cell_type": "code",
      "source": [
        "# On définit nos DataFrames :\n",
        "df_t1 = liste_dataframes[0]\n",
        "df_t2 = liste_dataframes[1]\n",
        "df_t3 = liste_dataframes[2]\n",
        "df_t4 = liste_dataframes[3]\n",
        "df_t5 = liste_dataframes[4]\n",
        "df_t6 = liste_dataframes[5]\n",
        "df_t7 = liste_dataframes[6]\n",
        "df_t8 = liste_dataframes[7]\n",
        "df_t9 = liste_dataframes[8]\n",
        "\n",
        "# On ajoute df_t0 en première place de la liste :\n",
        "liste_dataframes = [df_t0, df_t1, df_t2, df_t3, df_t4, df_t5, df_t6, df_t7, df_t8, df_t9]"
      ],
      "metadata": {
        "id": "dgXoRzKlaQUv"
      },
      "execution_count": 28,
      "outputs": []
    },
    {
      "cell_type": "markdown",
      "source": [
        "##### Evolution du nombre de clients"
      ],
      "metadata": {
        "id": "SojC0R2-7E8q"
      }
    },
    {
      "cell_type": "code",
      "source": [
        "# On crée une liste pour stocker les tailles des dataframes\n",
        "tailles_dataframes = [df.shape[0] for df in liste_dataframes]\n",
        "periodes = [f\"t{i}\" for i in range(len(liste_dataframes))]\n",
        "# On trace les tailles des dataframes par rapport à leur nom\n",
        "plt.plot(periodes, tailles_dataframes, marker='o')\n",
        "plt.xlabel('Périodes')\n",
        "plt.ylabel('Nombre de clients')\n",
        "plt.title(\"Evolution du nombre de clients par périodes (t0 = 6 mois, ajout d'un mois par période ensuite)\", pad = 20)\n",
        "plt.show()"
      ],
      "metadata": {
        "colab": {
          "base_uri": "https://localhost:8080/",
          "height": 543
        },
        "outputId": "9fda8d45-86c0-4174-86bb-6d527b264409",
        "id": "XTm6QnSJaQUv"
      },
      "execution_count": 29,
      "outputs": [
        {
          "output_type": "display_data",
          "data": {
            "text/plain": [
              "<Figure size 800x550 with 1 Axes>"
            ],
            "image/png": "[encoded data removed]"
          },
          "metadata": {}
        }
      ]
    },
    {
      "cell_type": "markdown",
      "source": [
        "##### Preprocessing"
      ],
      "metadata": {
        "id": "kyUueQmm7JRB"
      }
    },
    {
      "cell_type": "code",
      "source": [
        "X_scaled_df_t0 = preprocessing(df_t0)\n",
        "X_scaled_df_t1 = preprocessing(df_t1)\n",
        "X_scaled_df_t2 = preprocessing(df_t2)\n",
        "X_scaled_df_t3 = preprocessing(df_t3)\n",
        "X_scaled_df_t4 = preprocessing(df_t4)\n",
        "X_scaled_df_t5 = preprocessing(df_t5)\n",
        "X_scaled_df_t6 = preprocessing(df_t6)\n",
        "X_scaled_df_t7 = preprocessing(df_t7)\n",
        "X_scaled_df_t8 = preprocessing(df_t8)\n",
        "X_scaled_df_t9 = preprocessing(df_t9)\n",
        "\n",
        "liste_scaled_df = [X_scaled_df_t0, X_scaled_df_t1, X_scaled_df_t2, X_scaled_df_t3, X_scaled_df_t4, X_scaled_df_t5, X_scaled_df_t6, X_scaled_df_t7, X_scaled_df_t8, X_scaled_df_t9]"
      ],
      "metadata": {
        "id": "Lmldy7RkaQUx"
      },
      "execution_count": 30,
      "outputs": []
    },
    {
      "cell_type": "markdown",
      "source": [
        "##### Entrainement du modèle en t0"
      ],
      "metadata": {
        "id": "gdxySCIYaQUy"
      }
    },
    {
      "cell_type": "code",
      "source": [
        "kmeans_t0 = KMeans(n_clusters=5, n_init = 10, random_state = 22)\n",
        "kmeans_t0.fit(X_scaled_df_t0)"
      ],
      "metadata": {
        "id": "WArRvDNjaQUy",
        "colab": {
          "base_uri": "https://localhost:8080/",
          "height": 80
        },
        "outputId": "bdcb566a-0159-44ac-8876-bb179d0b04f7"
      },
      "execution_count": 31,
      "outputs": [
        {
          "output_type": "execute_result",
          "data": {
            "text/plain": [
              "KMeans(n_clusters=5, n_init=10, random_state=22)"
            ],
            "text/html": [
              "<style>#sk-container-id-2 {\n",
              "  /* Definition of color scheme common for light and dark mode */\n",
              "  --sklearn-color-text: black;\n",
              "  --sklearn-color-line: gray;\n",
              "  /* Definition of color scheme for unfitted estimators */\n",
              "  --sklearn-color-unfitted-level-0: #fff5e6;\n",
              "  --sklearn-color-unfitted-level-1: #f6e4d2;\n",
              "  --sklearn-color-unfitted-level-2: #ffe0b3;\n",
              "  --sklearn-color-unfitted-level-3: chocolate;\n",
              "  /* Definition of color scheme for fitted estimators */\n",
              "  --sklearn-color-fitted-level-0: #f0f8ff;\n",
              "  --sklearn-color-fitted-level-1: #d4ebff;\n",
              "  --sklearn-color-fitted-level-2: #b3dbfd;\n",
              "  --sklearn-color-fitted-level-3: cornflowerblue;\n",
              "\n",
              "  /* Specific color for light theme */\n",
              "  --sklearn-color-text-on-default-background: var(--sg-text-color, var(--theme-code-foreground, var(--jp-content-font-color1, black)));\n",
              "  --sklearn-color-background: var(--sg-background-color, var(--theme-background, var(--jp-layout-color0, white)));\n",
              "  --sklearn-color-border-box: var(--sg-text-color, var(--theme-code-foreground, var(--jp-content-font-color1, black)));\n",
              "  --sklearn-color-icon: #696969;\n",
              "\n",
              "  @media (prefers-color-scheme: dark) {\n",
              "    /* Redefinition of color scheme for dark theme */\n",
              "    --sklearn-color-text-on-default-background: var(--sg-text-color, var(--theme-code-foreground, var(--jp-content-font-color1, white)));\n",
              "    --sklearn-color-background: var(--sg-background-color, var(--theme-background, var(--jp-layout-color0, #111)));\n",
              "    --sklearn-color-border-box: var(--sg-text-color, var(--theme-code-foreground, var(--jp-content-font-color1, white)));\n",
              "    --sklearn-color-icon: #878787;\n",
              "  }\n",
              "}\n",
              "\n",
              "#sk-container-id-2 {\n",
              "  color: var(--sklearn-color-text);\n",
              "}\n",
              "\n",
              "#sk-container-id-2 pre {\n",
              "  padding: 0;\n",
              "}\n",
              "\n",
              "#sk-container-id-2 input.sk-hidden--visually {\n",
              "  border: 0;\n",
              "  clip: rect(1px 1px 1px 1px);\n",
              "  clip: rect(1px, 1px, 1px, 1px);\n",
              "  height: 1px;\n",
              "  margin: -1px;\n",
              "  overflow: hidden;\n",
              "  padding: 0;\n",
              "  position: absolute;\n",
              "  width: 1px;\n",
              "}\n",
              "\n",
              "#sk-container-id-2 div.sk-dashed-wrapped {\n",
              "  border: 1px dashed var(--sklearn-color-line);\n",
              "  margin: 0 0.4em 0.5em 0.4em;\n",
              "  box-sizing: border-box;\n",
              "  padding-bottom: 0.4em;\n",
              "  background-color: var(--sklearn-color-background);\n",
              "}\n",
              "\n",
              "#sk-container-id-2 div.sk-container {\n",
              "  /* jupyter's `normalize.less` sets `[hidden] { display: none; }`\n",
              "     but bootstrap.min.css set `[hidden] { display: none !important; }`\n",
              "     so we also need the `!important` here to be able to override the\n",
              "     default hidden behavior on the sphinx rendered scikit-learn.org.\n",
              "     See: https://github.com/scikit-learn/scikit-learn/issues/21755 */\n",
              "  display: inline-block !important;\n",
              "  position: relative;\n",
              "}\n",
              "\n",
              "#sk-container-id-2 div.sk-text-repr-fallback {\n",
              "  display: none;\n",
              "}\n",
              "\n",
              "div.sk-parallel-item,\n",
              "div.sk-serial,\n",
              "div.sk-item {\n",
              "  /* draw centered vertical line to link estimators */\n",
              "  background-image: linear-gradient(var(--sklearn-color-text-on-default-background), var(--sklearn-color-text-on-default-background));\n",
              "  background-size: 2px 100%;\n",
              "  background-repeat: no-repeat;\n",
              "  background-position: center center;\n",
              "}\n",
              "\n",
              "/* Parallel-specific style estimator block */\n",
              "\n",
              "#sk-container-id-2 div.sk-parallel-item::after {\n",
              "  content: \"\";\n",
              "  width: 100%;\n",
              "  border-bottom: 2px solid var(--sklearn-color-text-on-default-background);\n",
              "  flex-grow: 1;\n",
              "}\n",
              "\n",
              "#sk-container-id-2 div.sk-parallel {\n",
              "  display: flex;\n",
              "  align-items: stretch;\n",
              "  justify-content: center;\n",
              "  background-color: var(--sklearn-color-background);\n",
              "  position: relative;\n",
              "}\n",
              "\n",
              "#sk-container-id-2 div.sk-parallel-item {\n",
              "  display: flex;\n",
              "  flex-direction: column;\n",
              "}\n",
              "\n",
              "#sk-container-id-2 div.sk-parallel-item:first-child::after {\n",
              "  align-self: flex-end;\n",
              "  width: 50%;\n",
              "}\n",
              "\n",
              "#sk-container-id-2 div.sk-parallel-item:last-child::after {\n",
              "  align-self: flex-start;\n",
              "  width: 50%;\n",
              "}\n",
              "\n",
              "#sk-container-id-2 div.sk-parallel-item:only-child::after {\n",
              "  width: 0;\n",
              "}\n",
              "\n",
              "/* Serial-specific style estimator block */\n",
              "\n",
              "#sk-container-id-2 div.sk-serial {\n",
              "  display: flex;\n",
              "  flex-direction: column;\n",
              "  align-items: center;\n",
              "  background-color: var(--sklearn-color-background);\n",
              "  padding-right: 1em;\n",
              "  padding-left: 1em;\n",
              "}\n",
              "\n",
              "\n",
              "/* Toggleable style: style used for estimator/Pipeline/ColumnTransformer box that is\n",
              "clickable and can be expanded/collapsed.\n",
              "- Pipeline and ColumnTransformer use this feature and define the default style\n",
              "- Estimators will overwrite some part of the style using the `sk-estimator` class\n",
              "*/\n",
              "\n",
              "/* Pipeline and ColumnTransformer style (default) */\n",
              "\n",
              "#sk-container-id-2 div.sk-toggleable {\n",
              "  /* Default theme specific background. It is overwritten whether we have a\n",
              "  specific estimator or a Pipeline/ColumnTransformer */\n",
              "  background-color: var(--sklearn-color-background);\n",
              "}\n",
              "\n",
              "/* Toggleable label */\n",
              "#sk-container-id-2 label.sk-toggleable__label {\n",
              "  cursor: pointer;\n",
              "  display: block;\n",
              "  width: 100%;\n",
              "  margin-bottom: 0;\n",
              "  padding: 0.5em;\n",
              "  box-sizing: border-box;\n",
              "  text-align: center;\n",
              "}\n",
              "\n",
              "#sk-container-id-2 label.sk-toggleable__label-arrow:before {\n",
              "  /* Arrow on the left of the label */\n",
              "  content: \"▸\";\n",
              "  float: left;\n",
              "  margin-right: 0.25em;\n",
              "  color: var(--sklearn-color-icon);\n",
              "}\n",
              "\n",
              "#sk-container-id-2 label.sk-toggleable__label-arrow:hover:before {\n",
              "  color: var(--sklearn-color-text);\n",
              "}\n",
              "\n",
              "/* Toggleable content - dropdown */\n",
              "\n",
              "#sk-container-id-2 div.sk-toggleable__content {\n",
              "  max-height: 0;\n",
              "  max-width: 0;\n",
              "  overflow: hidden;\n",
              "  text-align: left;\n",
              "  /* unfitted */\n",
              "  background-color: var(--sklearn-color-unfitted-level-0);\n",
              "}\n",
              "\n",
              "#sk-container-id-2 div.sk-toggleable__content.fitted {\n",
              "  /* fitted */\n",
              "  background-color: var(--sklearn-color-fitted-level-0);\n",
              "}\n",
              "\n",
              "#sk-container-id-2 div.sk-toggleable__content pre {\n",
              "  margin: 0.2em;\n",
              "  border-radius: 0.25em;\n",
              "  color: var(--sklearn-color-text);\n",
              "  /* unfitted */\n",
              "  background-color: var(--sklearn-color-unfitted-level-0);\n",
              "}\n",
              "\n",
              "#sk-container-id-2 div.sk-toggleable__content.fitted pre {\n",
              "  /* unfitted */\n",
              "  background-color: var(--sklearn-color-fitted-level-0);\n",
              "}\n",
              "\n",
              "#sk-container-id-2 input.sk-toggleable__control:checked~div.sk-toggleable__content {\n",
              "  /* Expand drop-down */\n",
              "  max-height: 200px;\n",
              "  max-width: 100%;\n",
              "  overflow: auto;\n",
              "}\n",
              "\n",
              "#sk-container-id-2 input.sk-toggleable__control:checked~label.sk-toggleable__label-arrow:before {\n",
              "  content: \"▾\";\n",
              "}\n",
              "\n",
              "/* Pipeline/ColumnTransformer-specific style */\n",
              "\n",
              "#sk-container-id-2 div.sk-label input.sk-toggleable__control:checked~label.sk-toggleable__label {\n",
              "  color: var(--sklearn-color-text);\n",
              "  background-color: var(--sklearn-color-unfitted-level-2);\n",
              "}\n",
              "\n",
              "#sk-container-id-2 div.sk-label.fitted input.sk-toggleable__control:checked~label.sk-toggleable__label {\n",
              "  background-color: var(--sklearn-color-fitted-level-2);\n",
              "}\n",
              "\n",
              "/* Estimator-specific style */\n",
              "\n",
              "/* Colorize estimator box */\n",
              "#sk-container-id-2 div.sk-estimator input.sk-toggleable__control:checked~label.sk-toggleable__label {\n",
              "  /* unfitted */\n",
              "  background-color: var(--sklearn-color-unfitted-level-2);\n",
              "}\n",
              "\n",
              "#sk-container-id-2 div.sk-estimator.fitted input.sk-toggleable__control:checked~label.sk-toggleable__label {\n",
              "  /* fitted */\n",
              "  background-color: var(--sklearn-color-fitted-level-2);\n",
              "}\n",
              "\n",
              "#sk-container-id-2 div.sk-label label.sk-toggleable__label,\n",
              "#sk-container-id-2 div.sk-label label {\n",
              "  /* The background is the default theme color */\n",
              "  color: var(--sklearn-color-text-on-default-background);\n",
              "}\n",
              "\n",
              "/* On hover, darken the color of the background */\n",
              "#sk-container-id-2 div.sk-label:hover label.sk-toggleable__label {\n",
              "  color: var(--sklearn-color-text);\n",
              "  background-color: var(--sklearn-color-unfitted-level-2);\n",
              "}\n",
              "\n",
              "/* Label box, darken color on hover, fitted */\n",
              "#sk-container-id-2 div.sk-label.fitted:hover label.sk-toggleable__label.fitted {\n",
              "  color: var(--sklearn-color-text);\n",
              "  background-color: var(--sklearn-color-fitted-level-2);\n",
              "}\n",
              "\n",
              "/* Estimator label */\n",
              "\n",
              "#sk-container-id-2 div.sk-label label {\n",
              "  font-family: monospace;\n",
              "  font-weight: bold;\n",
              "  display: inline-block;\n",
              "  line-height: 1.2em;\n",
              "}\n",
              "\n",
              "#sk-container-id-2 div.sk-label-container {\n",
              "  text-align: center;\n",
              "}\n",
              "\n",
              "/* Estimator-specific */\n",
              "#sk-container-id-2 div.sk-estimator {\n",
              "  font-family: monospace;\n",
              "  border: 1px dotted var(--sklearn-color-border-box);\n",
              "  border-radius: 0.25em;\n",
              "  box-sizing: border-box;\n",
              "  margin-bottom: 0.5em;\n",
              "  /* unfitted */\n",
              "  background-color: var(--sklearn-color-unfitted-level-0);\n",
              "}\n",
              "\n",
              "#sk-container-id-2 div.sk-estimator.fitted {\n",
              "  /* fitted */\n",
              "  background-color: var(--sklearn-color-fitted-level-0);\n",
              "}\n",
              "\n",
              "/* on hover */\n",
              "#sk-container-id-2 div.sk-estimator:hover {\n",
              "  /* unfitted */\n",
              "  background-color: var(--sklearn-color-unfitted-level-2);\n",
              "}\n",
              "\n",
              "#sk-container-id-2 div.sk-estimator.fitted:hover {\n",
              "  /* fitted */\n",
              "  background-color: var(--sklearn-color-fitted-level-2);\n",
              "}\n",
              "\n",
              "/* Specification for estimator info (e.g. \"i\" and \"?\") */\n",
              "\n",
              "/* Common style for \"i\" and \"?\" */\n",
              "\n",
              ".sk-estimator-doc-link,\n",
              "a:link.sk-estimator-doc-link,\n",
              "a:visited.sk-estimator-doc-link {\n",
              "  float: right;\n",
              "  font-size: smaller;\n",
              "  line-height: 1em;\n",
              "  font-family: monospace;\n",
              "  background-color: var(--sklearn-color-background);\n",
              "  border-radius: 1em;\n",
              "  height: 1em;\n",
              "  width: 1em;\n",
              "  text-decoration: none !important;\n",
              "  margin-left: 1ex;\n",
              "  /* unfitted */\n",
              "  border: var(--sklearn-color-unfitted-level-1) 1pt solid;\n",
              "  color: var(--sklearn-color-unfitted-level-1);\n",
              "}\n",
              "\n",
              ".sk-estimator-doc-link.fitted,\n",
              "a:link.sk-estimator-doc-link.fitted,\n",
              "a:visited.sk-estimator-doc-link.fitted {\n",
              "  /* fitted */\n",
              "  border: var(--sklearn-color-fitted-level-1) 1pt solid;\n",
              "  color: var(--sklearn-color-fitted-level-1);\n",
              "}\n",
              "\n",
              "/* On hover */\n",
              "div.sk-estimator:hover .sk-estimator-doc-link:hover,\n",
              ".sk-estimator-doc-link:hover,\n",
              "div.sk-label-container:hover .sk-estimator-doc-link:hover,\n",
              ".sk-estimator-doc-link:hover {\n",
              "  /* unfitted */\n",
              "  background-color: var(--sklearn-color-unfitted-level-3);\n",
              "  color: var(--sklearn-color-background);\n",
              "  text-decoration: none;\n",
              "}\n",
              "\n",
              "div.sk-estimator.fitted:hover .sk-estimator-doc-link.fitted:hover,\n",
              ".sk-estimator-doc-link.fitted:hover,\n",
              "div.sk-label-container:hover .sk-estimator-doc-link.fitted:hover,\n",
              ".sk-estimator-doc-link.fitted:hover {\n",
              "  /* fitted */\n",
              "  background-color: var(--sklearn-color-fitted-level-3);\n",
              "  color: var(--sklearn-color-background);\n",
              "  text-decoration: none;\n",
              "}\n",
              "\n",
              "/* Span, style for the box shown on hovering the info icon */\n",
              ".sk-estimator-doc-link span {\n",
              "  display: none;\n",
              "  z-index: 9999;\n",
              "  position: relative;\n",
              "  font-weight: normal;\n",
              "  right: .2ex;\n",
              "  padding: .5ex;\n",
              "  margin: .5ex;\n",
              "  width: min-content;\n",
              "  min-width: 20ex;\n",
              "  max-width: 50ex;\n",
              "  color: var(--sklearn-color-text);\n",
              "  box-shadow: 2pt 2pt 4pt #999;\n",
              "  /* unfitted */\n",
              "  background: var(--sklearn-color-unfitted-level-0);\n",
              "  border: .5pt solid var(--sklearn-color-unfitted-level-3);\n",
              "}\n",
              "\n",
              ".sk-estimator-doc-link.fitted span {\n",
              "  /* fitted */\n",
              "  background: var(--sklearn-color-fitted-level-0);\n",
              "  border: var(--sklearn-color-fitted-level-3);\n",
              "}\n",
              "\n",
              ".sk-estimator-doc-link:hover span {\n",
              "  display: block;\n",
              "}\n",
              "\n",
              "/* \"?\"-specific style due to the `<a>` HTML tag */\n",
              "\n",
              "#sk-container-id-2 a.estimator_doc_link {\n",
              "  float: right;\n",
              "  font-size: 1rem;\n",
              "  line-height: 1em;\n",
              "  font-family: monospace;\n",
              "  background-color: var(--sklearn-color-background);\n",
              "  border-radius: 1rem;\n",
              "  height: 1rem;\n",
              "  width: 1rem;\n",
              "  text-decoration: none;\n",
              "  /* unfitted */\n",
              "  color: var(--sklearn-color-unfitted-level-1);\n",
              "  border: var(--sklearn-color-unfitted-level-1) 1pt solid;\n",
              "}\n",
              "\n",
              "#sk-container-id-2 a.estimator_doc_link.fitted {\n",
              "  /* fitted */\n",
              "  border: var(--sklearn-color-fitted-level-1) 1pt solid;\n",
              "  color: var(--sklearn-color-fitted-level-1);\n",
              "}\n",
              "\n",
              "/* On hover */\n",
              "#sk-container-id-2 a.estimator_doc_link:hover {\n",
              "  /* unfitted */\n",
              "  background-color: var(--sklearn-color-unfitted-level-3);\n",
              "  color: var(--sklearn-color-background);\n",
              "  text-decoration: none;\n",
              "}\n",
              "\n",
              "#sk-container-id-2 a.estimator_doc_link.fitted:hover {\n",
              "  /* fitted */\n",
              "  background-color: var(--sklearn-color-fitted-level-3);\n",
              "}\n",
              "</style><div id=\"sk-container-id-2\" class=\"sk-top-container\"><div class=\"sk-text-repr-fallback\"><pre>KMeans(n_clusters=5, n_init=10, random_state=22)</pre><b>In a Jupyter environment, please rerun this cell to show the HTML representation or trust the notebook. <br />On GitHub, the HTML representation is unable to render, please try loading this page with nbviewer.org.</b></div><div class=\"sk-container\" hidden><div class=\"sk-item\"><div class=\"sk-estimator fitted sk-toggleable\"><input class=\"sk-toggleable__control sk-hidden--visually\" id=\"sk-estimator-id-2\" type=\"checkbox\" checked><label for=\"sk-estimator-id-2\" class=\"sk-toggleable__label fitted sk-toggleable__label-arrow fitted\">&nbsp;&nbsp;KMeans<a class=\"sk-estimator-doc-link fitted\" rel=\"noreferrer\" target=\"_blank\" href=\"https://scikit-learn.org/1.4/modules/generated/sklearn.cluster.KMeans.html\">?<span>Documentation for KMeans</span></a><span class=\"sk-estimator-doc-link fitted\">i<span>Fitted</span></span></label><div class=\"sk-toggleable__content fitted\"><pre>KMeans(n_clusters=5, n_init=10, random_state=22)</pre></div> </div></div></div></div>"
            ]
          },
          "metadata": {},
          "execution_count": 31
        }
      ]
    },
    {
      "cell_type": "markdown",
      "source": [
        "##### Calcul et visualisation de l'ARI au cours du temps"
      ],
      "metadata": {
        "id": "7WlnFiME7Vzi"
      }
    },
    {
      "cell_type": "code",
      "source": [
        "ARI_list = [adjusted_rand_score(kmeans_t0.labels_, kmeans_t0.labels_)]\n",
        "ARI_threshold = 0.9\n",
        "model = kmeans_t0\n",
        "for i, df, X_scaled_df in zip(range(len(liste_dataframes[1:])), liste_dataframes[1:], liste_scaled_df[1:]):\n",
        "  label = model.predict(X_scaled_df)\n",
        "  ari=adjusted_rand_score(label, label_t(X_scaled_df))\n",
        "  if ari >= ARI_threshold:\n",
        "    print(f\"A la période {i + 1}, le modèle est toujours pertinent\")\n",
        "    ARI_list.append(ari)\n",
        "  else:\n",
        "    print(f\"A la période {i + 1}, le modèle n'est plus pertinent, on le met à jour\")\n",
        "    model = KMeans(n_clusters=5, n_init = 10, random_state = 22).fit(X_scaled_df)\n",
        "    label = model.predict(X_scaled_df)\n",
        "    ari=adjusted_rand_score(label, label)\n",
        "    ARI_list.append(ari)\n",
        "\n",
        "# Visualisation :\n",
        "plt.figure()\n",
        "plt.plot(range(len(ARI_list)), ARI_list)\n",
        "plt.xticks(range(len(ARI_list)), [f\"t{i}\" for i in range(len(ARI_list))])\n",
        "plt.ylabel(\"ARI-Score\")\n",
        "plt.ylim([0.9, 1])\n",
        "plt.title(f\"Evolution de l'ARI - seuil fixé à {ARI_threshold}\", pad = 20)\n",
        "plt.show()"
      ],
      "metadata": {
        "colab": {
          "base_uri": "https://localhost:8080/",
          "height": 685
        },
        "id": "OKpkbzs4auGJ",
        "outputId": "a1670c95-5e7a-465b-c1fa-6f501e1e7c4e"
      },
      "execution_count": 32,
      "outputs": [
        {
          "output_type": "stream",
          "name": "stdout",
          "text": [
            "A la période 1, le modèle est toujours pertinent\n",
            "A la période 2, le modèle n'est plus pertinent, on le met à jour\n",
            "A la période 3, le modèle est toujours pertinent\n",
            "A la période 4, le modèle est toujours pertinent\n",
            "A la période 5, le modèle est toujours pertinent\n",
            "A la période 6, le modèle est toujours pertinent\n",
            "A la période 7, le modèle est toujours pertinent\n",
            "A la période 8, le modèle est toujours pertinent\n",
            "A la période 9, le modèle est toujours pertinent\n"
          ]
        },
        {
          "output_type": "display_data",
          "data": {
            "text/plain": [
              "<Figure size 800x550 with 1 Axes>"
            ],
            "image/png": "[encoded data removed]"
          },
          "metadata": {}
        }
      ]
    },
    {
      "cell_type": "markdown",
      "source": [
        "##### Visualisation des trajectoires des centroïdes pour les clients composant le dataframe de la 1e période:"
      ],
      "metadata": {
        "id": "hE7kf6x12-HV"
      }
    },
    {
      "cell_type": "code",
      "source": [
        "df_t0.loc[:, \"k0_labels\"] = kmeans_t0.fit_predict(X_scaled_df_t0)\n",
        "idx_label_00 = df_t0.loc[:, \"k0_labels\"].index"
      ],
      "metadata": {
        "id": "v4654r1mgtg_"
      },
      "execution_count": 33,
      "outputs": []
    },
    {
      "cell_type": "code",
      "source": [
        "pca = PCA()\n",
        "pca = pca.fit(X_scaled_df_t0.loc[idx_label_00, :])\n",
        "X_proj = pca.transform(X_scaled_df_t0.loc[idx_label_00, :])"
      ],
      "metadata": {
        "id": "rX8GF4n267Be"
      },
      "execution_count": 34,
      "outputs": []
    },
    {
      "cell_type": "code",
      "source": [
        "# On récupère les centroïdes pour chaque période, puis les transforme via la PCA :\n",
        "centroids_maintenance = []\n",
        "for scaled_df in liste_scaled_df:\n",
        "  model = KMeans(n_clusters=5, n_init = 10, random_state = 22).fit(scaled_df.loc[idx_label_00, :])\n",
        "  centroids = model.cluster_centers_\n",
        "  pca_centroids = pca.transform(centroids)\n",
        "  #pca_centroids_2d = pca_centroids[:, :2]\n",
        "  centroids_maintenance.append(pca_centroids)\n",
        "\n",
        "# Visualisation :\n",
        "plt.figure(figsize=(8, 6))\n",
        "palette = sns.color_palette(\"rocket\", len(centroids_maintenance))\n",
        "\n",
        "for i, centroids in enumerate(centroids_maintenance):\n",
        "    sns.scatterplot(x=centroids[:, 0], y=centroids[:, 1], marker='o', color=palette[i], label=f't {i}')\n",
        "\n",
        "plt.title('Projection des centroïdes sur le 1er plan PCA')\n",
        "plt.legend(bbox_to_anchor=(1, 0.5))\n",
        "plt.grid(False)\n",
        "plt.show()"
      ],
      "metadata": {
        "colab": {
          "base_uri": "https://localhost:8080/",
          "height": 543
        },
        "id": "umDMIfI43HE2",
        "outputId": "fdb5f222-2010-4a8b-9d4c-74259d1ca71c"
      },
      "execution_count": 35,
      "outputs": [
        {
          "output_type": "display_data",
          "data": {
            "text/plain": [
              "<Figure size 800x600 with 1 Axes>"
            ],
            "image/png": "[encoded data removed]"
          },
          "metadata": {}
        }
      ]
    },
    {
      "cell_type": "code",
      "source": [
        "# On récupère les centroïdes pour chaque période, puis les transforme via la PCA :\n",
        "centroids_maintenance = []\n",
        "for scaled_df in liste_scaled_df:\n",
        "  model = KMeans(n_clusters=5, n_init = 10, random_state = 22).fit(scaled_df.loc[idx_label_00, :])\n",
        "  centroids = model.cluster_centers_\n",
        "  pca_centroids = pca.transform(centroids)\n",
        "  #pca_centroids_2d = pca_centroids[:, :2]\n",
        "  centroids_maintenance.append(pca_centroids)\n",
        "\n",
        "# Visualisation :\n",
        "plt.figure(figsize=(8, 6))\n",
        "palette = sns.color_palette(\"rocket\", len(centroids_maintenance))\n",
        "\n",
        "for i, centroids in enumerate(centroids_maintenance):\n",
        "    sns.scatterplot(x=centroids[:, 1], y=centroids[:, 2], marker='o', color=palette[i], label=f't {i}')\n",
        "\n",
        "plt.title('Projection des centroïdes sur le 2e plan PCA')\n",
        "plt.legend(bbox_to_anchor=(1, 0.5))\n",
        "plt.grid(False)\n",
        "plt.show()"
      ],
      "metadata": {
        "colab": {
          "base_uri": "https://localhost:8080/",
          "height": 543
        },
        "id": "XMXhjeg3FXsV",
        "outputId": "dbe5b9d0-d21e-4710-d70a-d19238c311be"
      },
      "execution_count": 36,
      "outputs": [
        {
          "output_type": "display_data",
          "data": {
            "text/plain": [
              "<Figure size 800x600 with 1 Axes>"
            ],
            "image/png": "[encoded data removed]"
          },
          "metadata": {}
        }
      ]
    }
  ]
}